{
 "cells": [
  {
   "cell_type": "code",
   "execution_count": 1,
   "metadata": {},
   "outputs": [
    {
     "data": {
      "text/html": [
       "<style>.container { width:90% !important; }</style>"
      ],
      "text/plain": [
       "<IPython.core.display.HTML object>"
      ]
     },
     "metadata": {},
     "output_type": "display_data"
    }
   ],
   "source": [
    "# IPython Imports\n",
    "# Used to make notebook wider, comment out for normal notebook\n",
    "from IPython.core.display import display, HTML\n",
    "display(HTML(\"<style>.container { width:90% !important; }</style>\"))\n",
    "from IPython.display import clear_output"
   ]
  },
  {
   "cell_type": "code",
   "execution_count": 2,
   "metadata": {},
   "outputs": [],
   "source": [
    "%matplotlib inline\n",
    "# Import Libraries\n",
    "import boto3\n",
    "import csv\n",
    "import numpy as np\n",
    "import pandas as pd\n",
    "import matplotlib\n",
    "import matplotlib.pyplot as plt\n",
    "import matplotlib.patches as patches\n",
    "import mplcyberpunk\n",
    "import seaborn as sns\n",
    "import scipy as sp\n",
    "import scipy.stats as stats\n",
    "from typing import List, Dict, Callable\n",
    "\n",
    "plt.style.use(\"cyberpunk\")\n",
    "# plt.style.use('dark_background')\n",
    "# plt.style.use('ggplot')\n"
   ]
  },
  {
   "cell_type": "code",
   "execution_count": 3,
   "metadata": {},
   "outputs": [],
   "source": [
    "# GLOBAL VARS\n",
    "BKT_NAME = 'ds-data-2020'\n",
    "# DATASET NAMES\n",
    "the_cc = \"auto_data_clean.csv\" # Main CLEANED Dataset\n",
    "# SET DATA PATH/KEYS\n",
    "KEY = the_cc"
   ]
  },
  {
   "cell_type": "code",
   "execution_count": 4,
   "metadata": {},
   "outputs": [],
   "source": [
    "# Create boto3 s3 Client Object\n",
    "s3 = boto3.client('s3')\n",
    "# Create s3 Bucket Object -> Dict\n",
    "obj = s3.get_object(Bucket=BKT_NAME, Key=KEY)"
   ]
  },
  {
   "cell_type": "code",
   "execution_count": null,
   "metadata": {},
   "outputs": [],
   "source": [
    "# Convert Bucket File to pd.DataFrame\n",
    "auto_df = pd.read_csv(obj['Body'], low_memory=False)"
   ]
  },
  {
   "cell_type": "markdown",
   "metadata": {},
   "source": [
    "# IMPORTANT DATASET CHANGE\n",
    "> Dropped 2009 Chevrolet Tahoe due to incorrect Torque values (over 3000 lbf)"
   ]
  },
  {
   "cell_type": "code",
   "execution_count": null,
   "metadata": {},
   "outputs": [],
   "source": [
    "auto_df = auto_df[auto_df[\"Torque\"] < 1000]"
   ]
  },
  {
   "cell_type": "code",
   "execution_count": null,
   "metadata": {},
   "outputs": [],
   "source": [
    "# PLOTTER FUNCTIONS\n",
    "def build_scatter(ax_obj:object, x_series:pd.Series, y_series:pd.Series, x_range:tuple, ax_pos=None, fig_obj:object=None, colors:list=None, alpha_col:float=0.7, col_div:bool=False, col_bar:bool=False) -> None:\n",
    "    \"\"\"Create scatter plot with color divides by bounds\"\"\"\n",
    "    # Set Default Colors\n",
    "    colors = colors if colors is not None else [\"g\", \"deeppink\", \"dodgerblue\", \"orange\", \"purple\", \"red\", \"white\"]\n",
    "    # Create Bounds From x_series\n",
    "    bounds = np.arange(*x_range)\n",
    "    # Create Color Divides by Bound Range\n",
    "    cmap = matplotlib.colors.ListedColormap(colors) if col_div else None\n",
    "    norm = matplotlib.colors.BoundaryNorm(bounds, len(colors)) if col_div else None\n",
    "\n",
    "    # Assign Scatter to ax_obj\n",
    "    ax_obj.scatter(x_series, y_series, c=x_series, cmap=cmap, norm=norm, alpha=alpha_col)\n",
    "\n",
    "    # Decoration\n",
    "    ax_obj.set_title(f'\\n{y_series.name} by {x_series.name}\\n', fontsize=22)\n",
    "    ax_obj.set_xlabel(f\"{x_series.name}\\n\", fontsize=18)\n",
    "    ax_obj.set_ylabel(f\"{y_series.name}\\n\", fontsize=18)\n",
    "    \n",
    "    # Add Color Bar\n",
    "#     if col_bar and (fig_obj is not None and ax_pos is not None):\n",
    "#         fig_obj.colorbar(bounds, ax=ax_pos, cax=ax_obj, pad=0.2)\n",
    "    \n",
    "    # Set Lims\n",
    "    ax_obj.set_xlim(x_series.min(), x_series.max())"
   ]
  },
  {
   "cell_type": "markdown",
   "metadata": {},
   "source": [
    "\n",
    "<h1 align=\"center\">\n",
    "  <br>\n",
    "      Automotive EDA (5-Cylinder Engines)\n",
    "  <br>\n",
    "</h1>\n",
    "<img src=\"https://raw.githubusercontent.com/boogiedev/automotive-eda/master/img/automobiles.jpg\" width=\"800\">\n",
    "\n",
    "## Objective\n",
    "> Explore the differences between 5 Cylinder Engines and \"Traditional\" I-4/V-6 Engine Types \n",
    "\n",
    "\n"
   ]
  },
  {
   "cell_type": "markdown",
   "metadata": {},
   "source": [
    "# Efficiency:\n",
    "> ### MPG Distribution by Cylinders  "
   ]
  },
  {
   "cell_type": "code",
   "execution_count": null,
   "metadata": {},
   "outputs": [],
   "source": [
    "# plt.style.use('dark_background')\n",
    "# plt.style.use('ggplot')\n",
    "\n",
    "# Draw Plot\n",
    "plt.figure(figsize=(12,6), dpi= 80)\n",
    "\n",
    "alpha_col = 0.7\n",
    "colors = [\"g\", \"deeppink\", \"dodgerblue\", \"orange\", \"white\", \"purple\", \"red\"]\n",
    "cyls = (sorted(auto_df[\"Cylinders\"].unique())[1:-1][::-1])\n",
    "\n",
    "# Plot Points\n",
    "for col, cyl in zip(colors, cyls):\n",
    "    cyl = int(cyl)\n",
    "    sns.kdeplot(auto_df.loc[auto_df['Cylinders'] == cyl, \"Gas Mileage (Combined)\"], shade=True, color=col, label=f\"Cyl={cyl}\", alpha=.7)\n",
    "\n",
    "# Decoration\n",
    "plt.title('\\nDensity Plot of MPG by Cylinder\\n', fontsize=22)\n",
    "plt.xlabel(\"MPG\\n\", fontsize=18)\n",
    "plt.ylabel(\"Density (KDE)for\\n\", fontsize=18)\n",
    "# Set Legend Attr\n",
    "legend_ = plt.legend(loc=\"upper right\", bbox_to_anchor=(0.45, 0.5, 0.5, 0.5), fontsize=20, labelspacing=0.6, frameon=True, framealpha=0.9)\n",
    "for text in legend_.get_texts():\n",
    "    text.set_color(\"black\")\n",
    "# Set Frame Attr\n",
    "frame = legend_.get_frame()\n",
    "frame.set_color('white')\n",
    "# MPL Cyberpunk Methods\n",
    "mplcyberpunk.add_glow_effects()\n",
    "mplcyberpunk.add_underglow()\n",
    "\n",
    "# Increase Label Line Thickness\n",
    "for line in legend_.get_lines():\n",
    "    line.set_linewidth(6)\n",
    "\n",
    "# Show PlotDistribution\n",
    "# fig.tight_layout()\n",
    "plt.subplots_adjust(left=0, bottom=0, right=1.2, top=1, wspace=1, hspace=0)\n",
    "plt.show()"
   ]
  },
  {
   "cell_type": "code",
   "execution_count": null,
   "metadata": {},
   "outputs": [],
   "source": [
    "# Create Dataframe Consisting of only 5 Cylinder Vehicles\n",
    "five_cyl_df = auto_df.loc[:, \"Year\":\"Fuel System\"][auto_df[\"Cylinders\"] == 5]\n",
    "five_cyl_df.reset_index(inplace=True)"
   ]
  },
  {
   "cell_type": "code",
   "execution_count": null,
   "metadata": {},
   "outputs": [],
   "source": [
    "# Create Groupby Object by 'Brand'\n",
    "group_5_cyl = auto_df[auto_df[\"Cylinders\"] == 5].groupby(\"Brand\")"
   ]
  },
  {
   "cell_type": "markdown",
   "metadata": {},
   "source": [
    "# Efficiency:\n",
    "> ### 5-Cylinder Engine MPG Distribution "
   ]
  },
  {
   "cell_type": "code",
   "execution_count": null,
   "metadata": {},
   "outputs": [],
   "source": [
    "# plt.style.use('dark_background')\n",
    "# plt.style.use('ggplot')\n",
    "\n",
    "# Draw Plot\n",
    "plt.figure(figsize=(12,6), dpi= 80)\n",
    "\n",
    "# Plot Points\n",
    "mpg_kde_plot = sns.distplot(auto_df.loc[auto_df['Cylinders'] == 5, \"Gas Mileage (Combined)\"],\n",
    "             color=\"red\",\n",
    "             kde_kws={\n",
    "                 \"color\":'white',\n",
    "                 \"shade\":True,\n",
    "                 \"alpha\":0.7,\n",
    "             }\n",
    "            )\n",
    "\n",
    "# Decoration\n",
    "plt.title('\\nHistogram of MPG by 5-Cylinder Engines with KDE/Dist\\n', fontsize=22)\n",
    "plt.xlabel(\"MPG\\n\", fontsize=18)\n",
    "plt.ylabel(\"Density (KDE)\\n\", fontsize=18)\n",
    "mplcyberpunk.add_underglow()\n",
    "mplcyberpunk.add_glow_effects()\n",
    "\n",
    "# Show Plot\n",
    "plt.subplots_adjust(left=0, bottom=0, right=1.1, top=1, wspace=1, hspace=0)\n",
    "plt.show()"
   ]
  },
  {
   "cell_type": "markdown",
   "metadata": {},
   "source": [
    "# Efficiency:\n",
    "> ### 5-Cylinder Engine MPG Distribution by Manufacturer (Full) "
   ]
  },
  {
   "cell_type": "code",
   "execution_count": null,
   "metadata": {},
   "outputs": [],
   "source": [
    "# # plt.style.use('dark_background')\n",
    "# # plt.style.use('ggplot')\n",
    "\n",
    "# Draw Plot\n",
    "plt.figure(figsize=(12,6), dpi= 80)\n",
    "\n",
    "alpha_col = 0.7\n",
    "colors = [\"g\", \"deeppink\", \"dodgerblue\", \"orange\", \"white\", \"purple\", \"red\"]\n",
    "\n",
    "# Plot Points\n",
    "for col, bdf in zip(colors, group_5_cyl):\n",
    "    brand = bdf[0]\n",
    "    sns.kdeplot(bdf[1][\"Gas Mileage (Combined)\"], shade=True, color=col, label=f\"{brand}\", alpha=.7)\n",
    "\n",
    "# Decoration\n",
    "plt.title('\\nDensity Plot of MPG of 5 Cylinder Models by Manufacturer\\n', fontsize=22)\n",
    "plt.xlabel(\"MPG\\n\", fontsize=18)\n",
    "plt.ylabel(\"Density (KDE)\\n\", fontsize=18)\n",
    "# Set Legend Attr\n",
    "legend_ = plt.legend(loc=\"upper right\", bbox_to_anchor=(-0.30, 0.55, 0.5, 0.5), fontsize=20, labelspacing=0.6, frameon=True, framealpha=0.9)\n",
    "for text in legend_.get_texts():\n",
    "    text.set_color(\"black\")\n",
    "# Set Frame Attr\n",
    "frame = legend_.get_frame()\n",
    "frame.set_color('white')\n",
    "# MPL Cyberpunk Methods\n",
    "mplcyberpunk.add_glow_effects()\n",
    "mplcyberpunk.add_underglow()\n",
    "\n",
    "# Increase Label Line Thickness\n",
    "for line in legend_.get_lines():\n",
    "    line.set_linewidth(6)\n",
    "\n",
    "# Show Plot\n",
    "# fig.tight_layout()\n",
    "plt.subplots_adjust(left=0, bottom=0, right=1.3, top=1, wspace=1, hspace=0)\n",
    "plt.show()"
   ]
  },
  {
   "cell_type": "markdown",
   "metadata": {},
   "source": [
    "# Efficiency:\n",
    "> ### 5-Cylinder Engine MPG Distribution by Manufacturer (Granulated) "
   ]
  },
  {
   "cell_type": "code",
   "execution_count": null,
   "metadata": {},
   "outputs": [],
   "source": [
    "# # plt.style.use('dark_background')\n",
    "# # plt.style.use('ggplot')\n",
    "\n",
    "# Draw Plot\n",
    "fig, axs = plt.subplots(2, 3, figsize=(16,10), dpi= 80)\n",
    "\n",
    "alpha_col = 0.7\n",
    "colors = [\"g\", \"deeppink\", \"dodgerblue\", \"orange\", \"white\", \"purple\", \"red\"]\n",
    "axes = axs.flatten()\n",
    "# Plot Points\n",
    "for col, bdf, ax in zip(colors, group_5_cyl, axes[:-1]):\n",
    "    brand = bdf[0]\n",
    "    # Plot\n",
    "    sns.kdeplot(bdf[1][\"Gas Mileage (Combined)\"], ax=ax, shade=True, color=col, label=f\"{brand}\", alpha=.7, legend=False)\n",
    "    # Decoration\n",
    "    ax.set_title(f'\\nMPG Density for 5-Cyl {brand} Models\\n', fontsize=12)\n",
    "    ax.set_xlabel(\"MPG\\n\", fontsize=10)\n",
    "    ax.set_ylabel(\"Density (KDE)\\n\", fontsize=10)\n",
    "    \n",
    "# Plot on Final Graph\n",
    "for col, bdf in zip(colors, group_5_cyl):\n",
    "    brand = bdf[0]\n",
    "    final = sns.kdeplot(bdf[1][\"Gas Mileage (Combined)\"], ax=axes[-1], shade=True, color=col, label=f\"{brand}\", alpha=.7, legend=False)\n",
    "    # Decoration\n",
    "    axes[-1].set_title(f'\\nDensity Plot of MPG of 5 Cylinder Models by Manufacturer\\n', fontsize=12)\n",
    "    axes[-1].set_xlabel(\"MPG\\n\", fontsize=10)\n",
    "    axes[-1].set_ylabel(\"Density (KDE)\\n\", fontsize=10)\n",
    "# Fix Final Graph Size\n",
    "\n",
    "# Get Legend Handles\n",
    "handles, labels = final.get_legend_handles_labels()\n",
    "# Set Legend Attr\n",
    "legend_ = fig.legend(handles[:], labels[:], loc=\"upper right\", bbox_to_anchor=(0.66, 0.47, 0.5, 0.5), fontsize=20, labelspacing=0.6, frameon=True, framealpha=0.9)\n",
    "# Increase Label Line Thickness\n",
    "for line in legend_.get_lines():\n",
    "    line.set_linewidth(6)\n",
    "\n",
    "# MPL Cyberpunk Methods\n",
    "mplcyberpunk.add_glow_effects()\n",
    "mplcyberpunk.add_underglow()\n",
    "\n",
    "# Show Plot\n",
    "fig.tight_layout()\n",
    "plt.show()"
   ]
  },
  {
   "cell_type": "code",
   "execution_count": null,
   "metadata": {},
   "outputs": [],
   "source": [
    "# Find all models with 5 cyl engines and group\n",
    "models_5_cyl = auto_df.loc[:, \"Year\":\"Fuel System\"][auto_df[\"Cylinders\"] == 5].groupby(\"Model\")\n",
    "\n",
    "# Set Horspower Index as Standard\n",
    "model_hp_group = five_cyl_df[['Horsepower', 'Model']].groupby('Model').apply(lambda x: x.mean())\n",
    "model_hp_group.sort_values('Horsepower', inplace=True)\n",
    "model_hp_group.reset_index(inplace=True)"
   ]
  },
  {
   "cell_type": "markdown",
   "metadata": {},
   "source": [
    "# Efficiency:\n",
    "> ### 5-Cylinder Engine MPG Distribution by Model "
   ]
  },
  {
   "cell_type": "code",
   "execution_count": null,
   "metadata": {},
   "outputs": [],
   "source": [
    "# Setup Data\n",
    "\n",
    "# Identiy the columns to aggregate by\n",
    "group_cols = ['Model', \"Brand\"]\n",
    "# Identify the columns to average\n",
    "metric_cols = ['Gas Mileage (Combined)']\n",
    "# Copy df\n",
    "five_cyl_cop = five_cyl_df.copy()\n",
    "\n",
    "# Create new DataFrame w/MultiIndex consisting of the group_cols and col for the mean of each metric_cols item\n",
    "aggs = five_cyl_cop.groupby(group_cols)[metric_cols].mean()\n",
    "# Remove metric_cols from df to replace with means in aggs\n",
    "five_cyl_cop.drop(metric_cols, axis=1, inplace=True)\n",
    "# Dupe to leave one row with each combination of group_cols in df\n",
    "five_cyl_cop.drop_duplicates(subset=group_cols, keep='last', inplace=True)\n",
    "# Mean columns from aggs into df\n",
    "five_cyl_cop = five_cyl_cop.merge(right=aggs, right_index=True, left_on=group_cols, how='right')\n",
    "# Reset Index\n",
    "five_cyl_cop.reset_index(inplace=True)\n",
    "\n",
    "# Get Average MPG Per Cylinder as Comparison Metric\n",
    "all_cyl_mpg = auto_df[['Gas Mileage (Combined)', 'Cylinders']].groupby('Cylinders').apply(lambda x: x.mean())\n",
    "all_cyl_mpg.sort_values('Gas Mileage (Combined)', inplace=True)\n",
    "\n",
    "all_cyl_mpg = all_cyl_mpg.loc[[4, 6, 8, 12]]\n",
    "\n",
    "# Add Extra X Tick Data for Other Averages\n",
    "xtra_xticks = ([f\"{x}-CYL AVG\" for x in all_cyl_mpg.index])\n",
    "\n",
    "# five_cyl_cop.sort_values(\"Gas Mileage (Combined)\")\n",
    "\n",
    "five_cyl_cop"
   ]
  },
  {
   "cell_type": "code",
   "execution_count": null,
   "metadata": {
    "scrolled": true
   },
   "outputs": [],
   "source": [
    "# Draw plot\n",
    "fig, ax = plt.subplots(figsize=(12,4), dpi= 80)\n",
    "\n",
    "# Create conditional colors based on brand\n",
    "# color_dict = dict(zip(['Audi', 'Chevrolet', 'GMC', 'Volkswagen', 'Volvo'], ['#02fff2', '#ff00ea', '#eeff00', '#00ff3c', \"dodgerblue\"]))\n",
    "# curated_colors = []\n",
    "# for brand in color_dict: \n",
    "#     curated_colors.append(color_dict[brand])\n",
    "# Colors for xtra columns\n",
    "xtra_colors = [\"deeppink\", \"orange\", \"white\", \"magenta\"]\n",
    "# Create Gradient\n",
    "gradient = [\"#f13600\", \"#e36500\",  \"#d58e00\",  \"#c7b000\", \"#a4b800\", \"#72aa00\", \"#459c00\", \"#208e00\", \"#70ff50\", \"#00ff41\"]\n",
    "\n",
    "\n",
    "# Create Vertical Lines\n",
    "ax.vlines(x=five_cyl_cop.index, ymin=0, ymax=five_cyl_cop[\"Gas Mileage (Combined)\"], color=curated_colors, alpha=0.85, linewidth=20)\n",
    "ax.vlines(x=[five_cyl_cop.index[-1] + x for x in range(1, len(xtra_xticks) + 1)], ymin=0, ymax=all_cyl_mpg[\"Gas Mileage (Combined)\"], color=\"white\", alpha=0.9, linewidth=20)\n",
    "\n",
    "# Annotate Text\n",
    "for i, mpg in enumerate(five_cyl_cop[\"Gas Mileage (Combined)\"]):\n",
    "    ax.text(i, mpg+1, round(mpg, 1), horizontalalignment='center', fontsize=12, color=\"white\")\n",
    "    \n",
    "for j, mpg in enumerate(all_cyl_mpg[\"Gas Mileage (Combined)\"], start=(i + 1)):\n",
    "    ax.text(j, mpg+1, round(mpg, 1), horizontalalignment='center', fontsize=12, color=\"white\")\n",
    "    \n",
    "# Set X Ticks As Models\n",
    "tick_idx = list(five_cyl_cop.index) + [five_cyl_cop.index[-1] + x for x in range(1, len(xtra_xticks) + 1)]\n",
    "ticks =  [x for x in five_cyl_cop[\"Model\"].str.upper()] + xtra_xticks\n",
    "plt.xticks(tick_idx, ticks, rotation=40, horizontalalignment='right', fontsize=12)\n",
    "\n",
    "# Decoration\n",
    "title = plt.title('\\nMPG AVG per Model\\n', fontsize=22)\n",
    "x_lab = plt.xlabel(\"Model\", fontsize=20)\n",
    "y_lab = plt.ylabel(\"Miles Per Gallon\\n\", fontsize=20)\n",
    "\n",
    "# Set Legend Attr\n",
    "legend_ = fig.legend(loc=\"upper right\", bbox_to_anchor=(0.66, 0.47, 0.5, 0.5), fontsize=20, labelspacing=0.6, frameon=True, framealpha=0.9)\n",
    "# Increase Label Line Thickness\n",
    "for line in legend_.get_lines():\n",
    "    line.set_linewidth(6)\n",
    "    \n",
    "# MPL Cyberpunk Methods\n",
    "mplcyberpunk.add_glow_effects()\n",
    "mplcyberpunk.add_underglow()\n",
    "\n",
    "# Show Plot\n",
    "fig.tight_layout()\n",
    "plt.subplots_adjust(left=0, bottom=0, right=1.2, top=1, wspace=1, hspace=0)\n",
    "plt.show()"
   ]
  },
  {
   "cell_type": "markdown",
   "metadata": {},
   "source": [
    "\n",
    "\n",
    "# Performance:\n",
    "> ### Horsepower/Torque of 5-Cylinder Engines by Model"
   ]
  },
  {
   "cell_type": "code",
   "execution_count": null,
   "metadata": {},
   "outputs": [],
   "source": [
    "# Setup Data\n",
    "model_tq_group = five_cyl_df[['Torque', 'Model']].groupby('Model').apply(lambda x: x.mean())\n",
    "model_tq_group.sort_values('Torque', inplace=True)\n",
    "model_tq_group.reset_index(inplace=True)"
   ]
  },
  {
   "cell_type": "code",
   "execution_count": null,
   "metadata": {},
   "outputs": [],
   "source": [
    "# df = five_cyl_df[[\"Horsepower\", \"Torque\"]]\n",
    "\n",
    "# Set Colors\n",
    "col_1 = '#08F7FE' # teal/cyan\n",
    "col_2 = '#FE53BB' # pink\n",
    "colors = [col_1, col_2]\n",
    "alpha_col = 0.7\n",
    "\n",
    "# Draw plot\n",
    "fig, ax = plt.subplots(figsize=(14,7), dpi= 80)\n",
    "\n",
    "# HP\n",
    "ax.vlines(x=model_hp_group.index, ymin=0, ymax=model_hp_group[\"Horsepower\"], color=col_1, alpha=0.6, linewidth=20)\n",
    "# Annotate Text\n",
    "for i, hp in enumerate(model_hp_group[\"Horsepower\"]):\n",
    "    ax.text(i, hp+5, f\"{int(hp)} HP\", horizontalalignment='center', fontsize=12, color=\"white\", rotation=70)\n",
    "# TQ\n",
    "ax.vlines(x=[x+0.25 for x in model_tq_group.index], ymin=0, ymax=model_tq_group[\"Torque\"], color=col_2, alpha=0.6, linewidth=20)\n",
    "# Annotate Text\n",
    "for i, tq in enumerate(model_tq_group[\"Torque\"]):\n",
    "    ax.text(i+0.3, tq+5, f\"{int(tq)} TQ\", horizontalalignment='center', fontsize=12, color=\"white\", rotation=70)\n",
    "    \n",
    "# Decoration\n",
    "title = plt.title('\\nHorsepower/Torque AVG per Model\\n', fontsize=22)\n",
    "x_lab = plt.xlabel(\"Model\\n\", fontsize=20)\n",
    "y_lab = plt.ylabel(\"\\nHorsepower / Torque(lbf)\\n\", fontsize=20)\n",
    "\n",
    "\n",
    "# Set Legend Attr\n",
    "legend_ = plt.legend([\"Horsepower\", \"Torque\"], loc=\"upper right\", bbox_to_anchor=(-0.30, 0.5, 0.5, 0.5), fontsize=20, labelspacing=0.6, frameon=True, framealpha=0.4)\n",
    "for text in legend_.get_texts():\n",
    "    text.set_color(\"white\")\n",
    "# Set Frame Attr\n",
    "frame = legend_.get_frame()\n",
    "frame.set_color('white')\n",
    "\n",
    "# Increase Label Line Thickness\n",
    "for line in legend_.get_lines():\n",
    "    line.set_linewidth(6)\n",
    "    \n",
    "# Set X Ticks As Models\n",
    "plt.xticks([x+0.2 for x in model_hp_group.index], model_hp_group[\"Model\"].str.upper(), rotation=40, horizontalalignment='center', fontsize=12)\n",
    "\n",
    "# MPL Cyberpunk Methods\n",
    "mplcyberpunk.add_glow_effects()\n",
    "mplcyberpunk.add_underglow()\n",
    "\n",
    "# Show Plot\n",
    "fig.tight_layout()\n",
    "plt.subplots_adjust(left=0, bottom=0, right=1.2, top=1, wspace=1, hspace=0)\n",
    "plt.show()"
   ]
  },
  {
   "cell_type": "markdown",
   "metadata": {},
   "source": [
    "# Performance:\n",
    "> ### Horsepower/Torque Distribution Engines by Cylinder"
   ]
  },
  {
   "cell_type": "code",
   "execution_count": null,
   "metadata": {},
   "outputs": [],
   "source": [
    "# Setup Data\n",
    "cyl_power_group = auto_df[['Cylinders', 'Horsepower', 'Torque']].groupby('Cylinders')\n",
    "cyl_pow_means = cyl_power_group.apply(lambda x: x.mean())\n",
    "# cyl_power_group.sort_values('Horsepower', inplace=True)\n",
    "# Set index back to numbers\n",
    "cyl_pow_means.index = range(0, len(cyl_power_group))\n",
    "\n",
    "# cyl_power_group\n",
    "# cyl_pow_means"
   ]
  },
  {
   "cell_type": "code",
   "execution_count": null,
   "metadata": {},
   "outputs": [],
   "source": [
    "# Draw Plot\n",
    "fig, axs = plt.subplots(2, 1, figsize=(14,8), dpi= 80)\n",
    "axes = axs.flatten()\n",
    "alpha_col = 0.7\n",
    "colors = [\"g\", \"deeppink\", \"dodgerblue\", \"orange\", \"white\", \"purple\", \"red\"]\n",
    "\n",
    "# Plot Points\n",
    "for col, hdf in zip(colors, cyl_power_group):\n",
    "    cyl = hdf[0]\n",
    "    sns.kdeplot(hdf[1][\"Horsepower\"], ax=axes[0], shade=True, color=col, label=f\"{int(cyl)}\", alpha=.7, legend=False)\n",
    "    axes[0].set_xlabel(\"Horsepower\\n\", fontsize=18)\n",
    "    axes[0].set_ylabel(\"Density (KDE)\\n\", fontsize=18)\n",
    "\n",
    "    \n",
    "for col, tdf in zip(colors, cyl_power_group):\n",
    "    cyl = tdf[0]\n",
    "    sns.kdeplot(tdf[1][\"Torque\"], ax=axes[1], shade=True, color=col, label=f\"{int(cyl)}\", alpha=.7, legend=False)\n",
    "    axes[1].set_xlabel(\"Torque\\n\", fontsize=18)\n",
    "    axes[1].set_ylabel(\"Density (KDE)\\n\", fontsize=18)\n",
    "    \n",
    "# Decoration\n",
    "axes[0].set_title('\\nPower Distribution per Cylinder\\n', fontsize=22)\n",
    "\n",
    "# Set Legend Attr\n",
    "legend_ = fig.legend([int(x) for x in cyl_pow_means[\"Cylinders\"]], loc=\"upper right\", bbox_to_anchor=(0.7, 0.7, 0.5, 0.5), fontsize=20, labelspacing=0.6, frameon=True, framealpha=0.7)\n",
    "for text in legend_.get_texts():\n",
    "    text.set_color(\"black\")\n",
    "# Set Frame Attr\n",
    "frame = legend_.get_frame()\n",
    "frame.set_color('white')\n",
    "# MPL Cyberpunk Methods\n",
    "mplcyberpunk.add_glow_effects()\n",
    "mplcyberpunk.add_underglow()\n",
    "\n",
    "# Increase Label Line Thickness\n",
    "for line in legend_.get_lines():\n",
    "    line.set_linewidth(6)\n",
    "    \n",
    "    \n",
    "# Show Plot\n",
    "fig.tight_layout()\n",
    "plt.subplots_adjust(left=0, bottom=0, right=1.2, top=1, wspace=1, hspace=0)\n",
    "plt.show()"
   ]
  },
  {
   "cell_type": "code",
   "execution_count": null,
   "metadata": {},
   "outputs": [],
   "source": [
    "auto_df[auto_df[\"Cylinders\"] == 10]"
   ]
  }
 ],
 "metadata": {
  "kernelspec": {
   "display_name": "Python 3",
   "language": "python",
   "name": "python3"
  },
  "language_info": {
   "codemirror_mode": {
    "name": "ipython",
    "version": 3
   },
   "file_extension": ".py",
   "mimetype": "text/x-python",
   "name": "python",
   "nbconvert_exporter": "python",
   "pygments_lexer": "ipython3",
   "version": "3.8.2"
  }
 },
 "nbformat": 4,
 "nbformat_minor": 4
}
