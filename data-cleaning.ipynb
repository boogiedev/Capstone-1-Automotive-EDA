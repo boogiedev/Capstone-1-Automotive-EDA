{
 "cells": [
  {
   "cell_type": "code",
   "execution_count": 113,
   "metadata": {},
   "outputs": [
    {
     "data": {
      "text/html": [
       "<style>.container { width:90% !important; }</style>"
      ],
      "text/plain": [
       "<IPython.core.display.HTML object>"
      ]
     },
     "metadata": {},
     "output_type": "display_data"
    }
   ],
   "source": [
    "# IPython Imports\n",
    "# Used to make notebook wider, comment out for normal notebook\n",
    "from IPython.core.display import display, HTML\n",
    "display(HTML(\"<style>.container { width:90% !important; }</style>\"))\n",
    "from IPython.display import clear_output"
   ]
  },
  {
   "cell_type": "code",
   "execution_count": 75,
   "metadata": {
    "execution": {
     "iopub.status.idle": "2020-04-05T03:05:11.446686Z",
     "shell.execute_reply": "2020-04-05T03:05:11.445833Z",
     "shell.execute_reply.started": "2020-04-05T03:05:11.384909Z"
    }
   },
   "outputs": [],
   "source": [
    "# Import Libraries\n",
    "import boto3\n",
    "import csv\n",
    "import numpy as np\n",
    "import pandas as pd\n",
    "from pandas_profiling import ProfileReport\n",
    "import matplotlib.pyplot as plt\n",
    "import re\n",
    "from typing import List, Dict, Callable"
   ]
  },
  {
   "cell_type": "code",
   "execution_count": 76,
   "metadata": {},
   "outputs": [],
   "source": [
    "# GLOBAL HELPER FUNCTIONS\n",
    "def print_ref(d_obj:Dict[str, any], row_len:int=4) -> None:\n",
    "    ref = \\\n",
    "f\"\"\" ---------------------------\n",
    "| OBJECT KEYS FOR REFERENCE |\n",
    " ---------------------------\n",
    "\"\"\"\n",
    "    row = 0\n",
    "    for key in d_obj.keys():\n",
    "        if row == row_len: \n",
    "            row = 0\n",
    "            ref += \"\\n\"\n",
    "        ref += f\" {key} |\"\n",
    "        row += 1\n",
    "    print(ref)\n",
    "    \n",
    "def parse_col(col_list:List[str], data_frame:pd.DataFrame=None) -> List[str]:\n",
    "    res, len_ = [], len(col_list) + 1\n",
    "    df_exists = data_frame is not None\n",
    "    for num, col in enumerate(col_list):\n",
    "        example = data_frame[col].iloc[0] if df_exists else \"None\"\n",
    "        ans = input(f\"\"\"\n",
    "Item #: {num + 1}/{len_}\n",
    "Column: {col}\n",
    "Example: {example}\n",
    "[y/n] Default[n] -> \"\"\").lower()\n",
    "        clear_output()\n",
    "        if ans == \"y\":\n",
    "            res.append(col)\n",
    "    return res\n"
   ]
  },
  {
   "cell_type": "code",
   "execution_count": 77,
   "metadata": {},
   "outputs": [],
   "source": [
    "# GLOBAL VARS\n",
    "BKT_NAME = 'ds-data-2020'\n",
    "\n",
    "# DATASET NAMES\n",
    "the_cc = \"thecarconnectiondataset.csv\" # Main Dataset\n",
    "motortrend = \"motortrend1974.csv\" # Currently Not Using\n",
    "car_feat_msrp = \"carfeaturesmsrp.csv\" # Currently Not Using\n",
    "\n",
    "# SET DATA PATH/KEYS\n",
    "KEY = the_cc"
   ]
  },
  {
   "cell_type": "code",
   "execution_count": 78,
   "metadata": {},
   "outputs": [
    {
     "name": "stdout",
     "output_type": "stream",
     "text": [
      " ---------------------------\n",
      "| OBJECT KEYS FOR REFERENCE |\n",
      " ---------------------------\n",
      " ResponseMetadata | AcceptRanges | LastModified | ContentLength |\n",
      " ETag | ContentType | Metadata | Body |\n"
     ]
    }
   ],
   "source": [
    "# Create boto3 s3 Client Object\n",
    "s3 = boto3.client('s3')\n",
    "# Create s3 Bucket Object -> Dict\n",
    "obj = s3.get_object(Bucket=BKT_NAME, Key=KEY)\n",
    "\n",
    "# obj_keys = obj.keys()\n",
    "print_ref(obj)\n"
   ]
  },
  {
   "cell_type": "code",
   "execution_count": 79,
   "metadata": {
    "execution": {
     "iopub.execute_input": "2020-04-05T03:05:11.461313Z",
     "iopub.status.busy": "2020-04-05T03:05:11.460755Z"
    }
   },
   "outputs": [],
   "source": [
    "# Might have to chunk data\n",
    "chk_size = 2000\n",
    "\n",
    "\n",
    "# Convert Bucket File to transposed pd.DataFrame\n",
    "auto_df = pd.read_csv(obj['Body'], index_col=0, header=None, low_memory=False).T"
   ]
  },
  {
   "cell_type": "code",
   "execution_count": 80,
   "metadata": {},
   "outputs": [],
   "source": [
    "# Rename known NaN columns\n",
    "auto_df.rename(columns={ auto_df.columns[0]: \"Model\" }, inplace = True)"
   ]
  },
  {
   "cell_type": "code",
   "execution_count": 81,
   "metadata": {},
   "outputs": [],
   "source": [
    "# Get only wanted columns\n",
    "# col = parse_col(auto_df.columns, auto_df)\n",
    "\n",
    "# col = [\"Model\", 'MSRP', 'Gas Mileage', 'Engine', 'EPA Class', 'Style Name', 'Drivetrain', 'Passenger Capacity', 'Passenger Doors', 'Body Style', 'Transmission', 'Base Curb Weight (lbs)', 'Wheelbase (in)', 'Min Ground Clearance (in)', 'Track Width, Front (in)', 'Track Width, Rear (in)', 'Height, Overall (in)', 'Fuel Economy Est-Combined (MPG)', 'SAE Net Torque @ RPM', 'Fuel System', 'Engine Type', 'SAE Net Horsepower @ RPM', 'Displacement', 'First Gear Ratio (:1)', 'Sixth Gear Ratio (:1)', 'Fourth Gear Ratio (:1)', 'Seventh Gear Ratio (:1)', 'Second Gear Ratio (:1)', 'Reverse Ratio (:1)', 'Fifth Gear Ratio (:1)', 'Eighth Gear Ratio (:1)', 'Third Gear Ratio (:1)', 'Final Drive Axle Ratio (:1)', 'Steering Type', 'Front Tire Size', 'Rear Tire Size']"
   ]
  },
  {
   "cell_type": "code",
   "execution_count": 82,
   "metadata": {},
   "outputs": [],
   "source": [
    "# Save wanted col to txt file\n",
    "# with open(\"data/wanted_col.txt\", \"w\") as text_file:\n",
    "#     for item in col:\n",
    "#         text_file.write(item + \"\\n\")"
   ]
  },
  {
   "cell_type": "code",
   "execution_count": 83,
   "metadata": {},
   "outputs": [],
   "source": [
    "# Get list of column from wanted_col.txt\n",
    "wanted_col = open(\"data/wanted_col.txt\", \"r\").read().splitlines()\n",
    "# Extract columns to new df\n",
    "auto_df_clean = auto_df[wanted_col].copy()"
   ]
  },
  {
   "cell_type": "code",
   "execution_count": 84,
   "metadata": {},
   "outputs": [],
   "source": [
    "# Clean Model Column to only contain year and name\n",
    "auto_df_clean[\"Model\"] =  [i.partition('Specs')[0] for i in auto_df_clean.Model]"
   ]
  },
  {
   "cell_type": "code",
   "execution_count": 85,
   "metadata": {},
   "outputs": [],
   "source": [
    "# Create Year Column from Model Column\n",
    "auto_df_clean.insert(0, \"Year\", [re.search(\"([^\\s]+)\",x).group() for x in auto_df_clean[\"Model\"]])"
   ]
  },
  {
   "cell_type": "code",
   "execution_count": 86,
   "metadata": {},
   "outputs": [],
   "source": [
    "# Cast Year Column to Int\n",
    "auto_df_clean[\"Year\"] = auto_df_clean[\"Year\"].astype(int) "
   ]
  },
  {
   "cell_type": "code",
   "execution_count": 87,
   "metadata": {},
   "outputs": [],
   "source": [
    "# Clean Model Column to only contain name\n",
    "auto_df_clean[\"Model\"] =  [(re.search(\"\\s(.*)\", i).group()) for i in auto_df_clean.Model]"
   ]
  },
  {
   "cell_type": "code",
   "execution_count": 88,
   "metadata": {},
   "outputs": [],
   "source": [
    "# Create Brand Column from Model Column\n",
    "auto_df_clean.insert(1, \"Brand\", [re.search(\"([^\\s]+)\", x).group() for x in auto_df_clean[\"Model\"]])"
   ]
  },
  {
   "cell_type": "code",
   "execution_count": 89,
   "metadata": {},
   "outputs": [],
   "source": [
    "# Clean Model Column to only contain model\n",
    "auto_df_clean[\"Model\"] =  [(re.search(\"\\s(.*)\", i).group(1)) for i in auto_df_clean.Model]"
   ]
  },
  {
   "cell_type": "code",
   "execution_count": 90,
   "metadata": {},
   "outputs": [],
   "source": [
    "# Get rid of all nan values in Gas Mileage\n",
    "nans = pd.notnull(auto_df_clean['Gas Mileage'])\n",
    "auto_df_clean = auto_df_clean[nans]"
   ]
  },
  {
   "cell_type": "code",
   "execution_count": 91,
   "metadata": {},
   "outputs": [],
   "source": [
    "# Split Gas Mileage into City and Hwy\n",
    "auto_df_clean.insert(4, \"Gas Mileage (City)\", [(x.partition(\"/\")[0].partition(\" \")[0]) for x in auto_df_clean[\"Gas Mileage\"]])\n",
    "auto_df_clean.insert(5, \"Gas Mileage (Hwy)\", [(x.partition(\"/\")[2].partition(\" \")[0]) for x in auto_df_clean[\"Gas Mileage\"]])"
   ]
  },
  {
   "cell_type": "code",
   "execution_count": 92,
   "metadata": {},
   "outputs": [],
   "source": [
    "# Gas Mileage to INT\n",
    "auto_df_clean['Gas Mileage (City)'] = pd.to_numeric(auto_df_clean['Gas Mileage (City)'])\n",
    "auto_df_clean['Gas Mileage (Hwy)'] = pd.to_numeric(auto_df_clean['Gas Mileage (Hwy)'])"
   ]
  },
  {
   "cell_type": "code",
   "execution_count": 93,
   "metadata": {},
   "outputs": [],
   "source": [
    "# Drop Gas Mileage Column after split\n",
    "auto_df_clean.drop(columns=[\"Gas Mileage\"], inplace=True)"
   ]
  },
  {
   "cell_type": "code",
   "execution_count": 94,
   "metadata": {},
   "outputs": [],
   "source": [
    "# Clean Gear Ratio Columns\n",
    "gears = [\"First Gear Ratio (:1)\", \"Second Gear Ratio (:1)\", \"Third Gear Ratio (:1)\", \"Fourth Gear Ratio (:1)\", \"Fifth Gear Ratio (:1)\", \"Sixth Gear Ratio (:1)\", \"Seventh Gear Ratio (:1)\", \"Eighth Gear Ratio (:1)\", \"Reverse Ratio (:1)\", \"Final Drive Axle Ratio (:1)\"]\n",
    "\n",
    "# Reorder Gears Numerically\n",
    "for idx, column in enumerate(gears, 26):\n",
    "    col = auto_df_clean[column]\n",
    "    auto_df_clean.drop(labels=[column], axis=1,inplace = True)\n",
    "    auto_df_clean.insert(idx, column, col)\n",
    "    \n",
    "# Cast NaN to values in col with \"- TBD -\"\n",
    "for gear in gears:\n",
    "    auto_df_clean.loc[auto_df_clean[gear].str.contains(\"TBD\", na=False), gear] = np.nan"
   ]
  },
  {
   "cell_type": "code",
   "execution_count": 95,
   "metadata": {},
   "outputs": [],
   "source": [
    "# Cast float to values in col with string arithmetic\n",
    "\"Notes: Some gear columns need to be sep with (,), (/), or (\" \") delimiters\"\n",
    "for gear in gears:\n",
    "    auto_df_clean[gear] = pd.to_numeric([\n",
    "        (x.partition(\",\")[0]) if ((type(x) == str) and (\",\" in x)) \n",
    "        else (x.partition(\"/\")[0]) if ((type(x) == str) and (\"/\" in x))\n",
    "        else (x.partition(\"-\")[0]) if ((type(x) == str) and (\"-\" in x))\n",
    "        else (x.partition(\" \")[0]) if ((type(x) == str) and (\" \" in x))\n",
    "        else x for x in auto_df_clean[gear]\n",
    "    ], downcast=\"float\", errors=\"coerce\")"
   ]
  },
  {
   "cell_type": "code",
   "execution_count": 96,
   "metadata": {},
   "outputs": [],
   "source": [
    "# Cast MSRP to Numeric Float\n",
    "auto_df_clean[\"MSRP\"] = pd.to_numeric((auto_df_clean[\"MSRP\"].replace('[\\$,]', '', regex=True)), downcast=\"integer\", errors=\"coerce\")\n",
    "# Rename MSRP to indicate $\n",
    "auto_df_clean.rename(columns={ \"MSRP\": \"MSRP($)\" }, inplace = True)"
   ]
  },
  {
   "cell_type": "code",
   "execution_count": 97,
   "metadata": {},
   "outputs": [],
   "source": [
    "# Get rid of all nan values in Horsepower/Torque\n",
    "nans = pd.notnull(auto_df_clean['SAE Net Torque @ RPM'])\n",
    "auto_df_clean = auto_df_clean[nans]"
   ]
  },
  {
   "cell_type": "code",
   "execution_count": 98,
   "metadata": {},
   "outputs": [],
   "source": [
    "# Split SAE Horsepower into Horsepower and @ RPM\n",
    "auto_df_clean.insert(4, \"Horsepower\", [(x.partition(\"@\")[0]) for x in auto_df_clean[\"SAE Net Horsepower @ RPM\"]])\n",
    "auto_df_clean.insert(5, \"@ RPM (HP)\", [(x.partition(\"@\")[2]) for x in auto_df_clean[\"SAE Net Horsepower @ RPM\"]])"
   ]
  },
  {
   "cell_type": "code",
   "execution_count": 99,
   "metadata": {},
   "outputs": [],
   "source": [
    "# Split SAE Torque into Torque and @ RPM\n",
    "auto_df_clean.insert(6, \"Torque\", [(x.partition(\"@\")[0]) for x in auto_df_clean[\"SAE Net Torque @ RPM\"]])\n",
    "auto_df_clean.insert(7, \"@ RPM (TQ)\", [(x.partition(\"@\")[2]) for x in auto_df_clean[\"SAE Net Torque @ RPM\"]])"
   ]
  },
  {
   "cell_type": "code",
   "execution_count": 100,
   "metadata": {},
   "outputs": [],
   "source": [
    "# Clean and Cast Power Values (Horsepower / Torque)\n",
    "pow_rpm_ratings = [\"Horsepower\", \"Torque\", \"@ RPM (HP)\", \"@ RPM (TQ)\"]\n",
    "\"Notes: Some Power columns need to be sep with (@), or (-) delimiters\"\n",
    "# Cast NaN to values in col with empty ratings or \"- TBD -\"\n",
    "for col in pow_rpm_ratings:\n",
    "    auto_df_clean.loc[auto_df_clean[col].str.contains(\"TBD\", na=False), col] = np.nan\n",
    "    if col in pow_rpm_ratings[:2]:\n",
    "        auto_df_clean[col] = pd.to_numeric(auto_df_clean[col], downcast=\"float\", errors=\"coerce\")"
   ]
  },
  {
   "cell_type": "code",
   "execution_count": 101,
   "metadata": {},
   "outputs": [],
   "source": [
    "# Drop SAE Horsepower and SAE Torque Columns after splits\n",
    "auto_df_clean.drop(columns=[\"SAE Net Horsepower @ RPM\"], inplace=True)\n",
    "auto_df_clean.drop(columns=[\"SAE Net Torque @ RPM\"], inplace=True)"
   ]
  },
  {
   "cell_type": "code",
   "execution_count": 119,
   "metadata": {},
   "outputs": [],
   "source": [
    "# Clean Base Curb Weight and Cast to INT\n",
    "auto_df_clean[\"Base Curb Weight (lbs)\"] = pd.to_numeric(auto_df_clean[\"Base Curb Weight (lbs)\"], downcast=\"integer\", errors=\"coerce\")"
   ]
  },
  {
   "cell_type": "code",
   "execution_count": 128,
   "metadata": {},
   "outputs": [],
   "source": [
    "# Clean Displacement and Cast to INT\n",
    "auto_df_clean[\"Displacement\"] = pd.to_numeric(\n",
    "    [(x.partition(\"L\")[0]) if type(x) == str else x for x in auto_df_clean[\"Displacement\"]], \n",
    "    downcast=\"float\", \n",
    "    errors=\"coerce\"\n",
    ")\n",
    "auto_df_clean.rename(columns={ \"Displacement\": \"Displacement(L)\" }, inplace = True)"
   ]
  },
  {
   "cell_type": "code",
   "execution_count": 130,
   "metadata": {},
   "outputs": [],
   "source": [
    "# auto_df_clean.info()"
   ]
  },
  {
   "cell_type": "code",
   "execution_count": 132,
   "metadata": {},
   "outputs": [],
   "source": [
    "# auto_df_clean.head()"
   ]
  },
  {
   "cell_type": "code",
   "execution_count": 134,
   "metadata": {},
   "outputs": [
    {
     "data": {
      "text/html": [
       "<div>\n",
       "<style scoped>\n",
       "    .dataframe tbody tr th:only-of-type {\n",
       "        vertical-align: middle;\n",
       "    }\n",
       "\n",
       "    .dataframe tbody tr th {\n",
       "        vertical-align: top;\n",
       "    }\n",
       "\n",
       "    .dataframe thead th {\n",
       "        text-align: right;\n",
       "    }\n",
       "</style>\n",
       "<table border=\"1\" class=\"dataframe\">\n",
       "  <thead>\n",
       "    <tr style=\"text-align: right;\">\n",
       "      <th></th>\n",
       "      <th>Year</th>\n",
       "      <th>MSRP($)</th>\n",
       "      <th>Horsepower</th>\n",
       "      <th>Torque</th>\n",
       "      <th>Gas Mileage (City)</th>\n",
       "      <th>Gas Mileage (Hwy)</th>\n",
       "      <th>Base Curb Weight (lbs)</th>\n",
       "      <th>Displacement(L)</th>\n",
       "      <th>First Gear Ratio (:1)</th>\n",
       "      <th>Second Gear Ratio (:1)</th>\n",
       "      <th>Third Gear Ratio (:1)</th>\n",
       "      <th>Fourth Gear Ratio (:1)</th>\n",
       "      <th>Fifth Gear Ratio (:1)</th>\n",
       "      <th>Sixth Gear Ratio (:1)</th>\n",
       "      <th>Seventh Gear Ratio (:1)</th>\n",
       "      <th>Eighth Gear Ratio (:1)</th>\n",
       "      <th>Reverse Ratio (:1)</th>\n",
       "      <th>Final Drive Axle Ratio (:1)</th>\n",
       "    </tr>\n",
       "  </thead>\n",
       "  <tbody>\n",
       "    <tr>\n",
       "      <th>count</th>\n",
       "      <td>26284.000000</td>\n",
       "      <td>26261.000000</td>\n",
       "      <td>26250.000000</td>\n",
       "      <td>26242.000000</td>\n",
       "      <td>26284.000000</td>\n",
       "      <td>26276.000000</td>\n",
       "      <td>18527.000000</td>\n",
       "      <td>25947.000000</td>\n",
       "      <td>24834.000000</td>\n",
       "      <td>23729.000000</td>\n",
       "      <td>23743.000000</td>\n",
       "      <td>23709.000000</td>\n",
       "      <td>19534.000000</td>\n",
       "      <td>13070.000000</td>\n",
       "      <td>4275.000000</td>\n",
       "      <td>3128.000000</td>\n",
       "      <td>24336.000000</td>\n",
       "      <td>18188.000000</td>\n",
       "    </tr>\n",
       "    <tr>\n",
       "      <th>mean</th>\n",
       "      <td>2010.382324</td>\n",
       "      <td>38138.281292</td>\n",
       "      <td>250.164688</td>\n",
       "      <td>257.343811</td>\n",
       "      <td>19.555014</td>\n",
       "      <td>26.283148</td>\n",
       "      <td>3607.858261</td>\n",
       "      <td>3.345928</td>\n",
       "      <td>3.727093</td>\n",
       "      <td>2.247718</td>\n",
       "      <td>1.494974</td>\n",
       "      <td>1.098211</td>\n",
       "      <td>0.908716</td>\n",
       "      <td>0.782912</td>\n",
       "      <td>0.784824</td>\n",
       "      <td>0.659625</td>\n",
       "      <td>3.147366</td>\n",
       "      <td>3.702522</td>\n",
       "    </tr>\n",
       "    <tr>\n",
       "      <th>std</th>\n",
       "      <td>6.054405</td>\n",
       "      <td>32625.769552</td>\n",
       "      <td>97.641388</td>\n",
       "      <td>102.690323</td>\n",
       "      <td>5.558793</td>\n",
       "      <td>6.245657</td>\n",
       "      <td>689.049250</td>\n",
       "      <td>1.283857</td>\n",
       "      <td>0.729955</td>\n",
       "      <td>0.517186</td>\n",
       "      <td>0.361223</td>\n",
       "      <td>0.300257</td>\n",
       "      <td>0.197890</td>\n",
       "      <td>0.153854</td>\n",
       "      <td>0.159695</td>\n",
       "      <td>0.064355</td>\n",
       "      <td>0.702880</td>\n",
       "      <td>0.658005</td>\n",
       "    </tr>\n",
       "    <tr>\n",
       "      <th>min</th>\n",
       "      <td>1996.000000</td>\n",
       "      <td>8599.000000</td>\n",
       "      <td>65.000000</td>\n",
       "      <td>65.000000</td>\n",
       "      <td>9.000000</td>\n",
       "      <td>11.000000</td>\n",
       "      <td>1808.000000</td>\n",
       "      <td>1.000000</td>\n",
       "      <td>0.400000</td>\n",
       "      <td>0.740000</td>\n",
       "      <td>0.450000</td>\n",
       "      <td>0.360000</td>\n",
       "      <td>0.080000</td>\n",
       "      <td>0.075000</td>\n",
       "      <td>0.000000</td>\n",
       "      <td>0.000000</td>\n",
       "      <td>0.730000</td>\n",
       "      <td>2.050000</td>\n",
       "    </tr>\n",
       "    <tr>\n",
       "      <th>25%</th>\n",
       "      <td>2006.000000</td>\n",
       "      <td>23280.000000</td>\n",
       "      <td>173.000000</td>\n",
       "      <td>177.000000</td>\n",
       "      <td>16.000000</td>\n",
       "      <td>21.000000</td>\n",
       "      <td>3160.000000</td>\n",
       "      <td>2.300000</td>\n",
       "      <td>3.060000</td>\n",
       "      <td>1.900000</td>\n",
       "      <td>1.296000</td>\n",
       "      <td>0.950000</td>\n",
       "      <td>0.760000</td>\n",
       "      <td>0.680000</td>\n",
       "      <td>0.730000</td>\n",
       "      <td>0.660000</td>\n",
       "      <td>2.700000</td>\n",
       "      <td>3.210000</td>\n",
       "    </tr>\n",
       "    <tr>\n",
       "      <th>50%</th>\n",
       "      <td>2011.000000</td>\n",
       "      <td>30240.000000</td>\n",
       "      <td>240.000000</td>\n",
       "      <td>253.000000</td>\n",
       "      <td>18.000000</td>\n",
       "      <td>26.000000</td>\n",
       "      <td>3499.000000</td>\n",
       "      <td>3.200000</td>\n",
       "      <td>3.750000</td>\n",
       "      <td>2.200000</td>\n",
       "      <td>1.490000</td>\n",
       "      <td>1.030000</td>\n",
       "      <td>0.860000</td>\n",
       "      <td>0.750000</td>\n",
       "      <td>0.839000</td>\n",
       "      <td>0.670000</td>\n",
       "      <td>3.290000</td>\n",
       "      <td>3.650000</td>\n",
       "    </tr>\n",
       "    <tr>\n",
       "      <th>75%</th>\n",
       "      <td>2015.000000</td>\n",
       "      <td>40965.000000</td>\n",
       "      <td>302.000000</td>\n",
       "      <td>305.000000</td>\n",
       "      <td>22.000000</td>\n",
       "      <td>30.000000</td>\n",
       "      <td>4045.000000</td>\n",
       "      <td>4.200000</td>\n",
       "      <td>4.210000</td>\n",
       "      <td>2.530000</td>\n",
       "      <td>1.720000</td>\n",
       "      <td>1.280000</td>\n",
       "      <td>1.000000</td>\n",
       "      <td>0.880000</td>\n",
       "      <td>0.840000</td>\n",
       "      <td>0.670000</td>\n",
       "      <td>3.530000</td>\n",
       "      <td>4.110000</td>\n",
       "    </tr>\n",
       "    <tr>\n",
       "      <th>max</th>\n",
       "      <td>2019.000000</td>\n",
       "      <td>548800.000000</td>\n",
       "      <td>808.000000</td>\n",
       "      <td>3350.000000</td>\n",
       "      <td>66.000000</td>\n",
       "      <td>70.000000</td>\n",
       "      <td>8591.000000</td>\n",
       "      <td>7.000000</td>\n",
       "      <td>15.950000</td>\n",
       "      <td>10.040000</td>\n",
       "      <td>6.360000</td>\n",
       "      <td>4.620000</td>\n",
       "      <td>3.830000</td>\n",
       "      <td>3.130000</td>\n",
       "      <td>4.330000</td>\n",
       "      <td>0.850000</td>\n",
       "      <td>14.070000</td>\n",
       "      <td>6.470000</td>\n",
       "    </tr>\n",
       "  </tbody>\n",
       "</table>\n",
       "</div>"
      ],
      "text/plain": [
       "0              Year        MSRP($)    Horsepower        Torque  \\\n",
       "count  26284.000000   26261.000000  26250.000000  26242.000000   \n",
       "mean    2010.382324   38138.281292    250.164688    257.343811   \n",
       "std        6.054405   32625.769552     97.641388    102.690323   \n",
       "min     1996.000000    8599.000000     65.000000     65.000000   \n",
       "25%     2006.000000   23280.000000    173.000000    177.000000   \n",
       "50%     2011.000000   30240.000000    240.000000    253.000000   \n",
       "75%     2015.000000   40965.000000    302.000000    305.000000   \n",
       "max     2019.000000  548800.000000    808.000000   3350.000000   \n",
       "\n",
       "0      Gas Mileage (City)  Gas Mileage (Hwy)  Base Curb Weight (lbs)  \\\n",
       "count        26284.000000       26276.000000            18527.000000   \n",
       "mean            19.555014          26.283148             3607.858261   \n",
       "std              5.558793           6.245657              689.049250   \n",
       "min              9.000000          11.000000             1808.000000   \n",
       "25%             16.000000          21.000000             3160.000000   \n",
       "50%             18.000000          26.000000             3499.000000   \n",
       "75%             22.000000          30.000000             4045.000000   \n",
       "max             66.000000          70.000000             8591.000000   \n",
       "\n",
       "0      Displacement(L)  First Gear Ratio (:1)  Second Gear Ratio (:1)  \\\n",
       "count     25947.000000           24834.000000            23729.000000   \n",
       "mean          3.345928               3.727093                2.247718   \n",
       "std           1.283857               0.729955                0.517186   \n",
       "min           1.000000               0.400000                0.740000   \n",
       "25%           2.300000               3.060000                1.900000   \n",
       "50%           3.200000               3.750000                2.200000   \n",
       "75%           4.200000               4.210000                2.530000   \n",
       "max           7.000000              15.950000               10.040000   \n",
       "\n",
       "0      Third Gear Ratio (:1)  Fourth Gear Ratio (:1)  Fifth Gear Ratio (:1)  \\\n",
       "count           23743.000000            23709.000000           19534.000000   \n",
       "mean                1.494974                1.098211               0.908716   \n",
       "std                 0.361223                0.300257               0.197890   \n",
       "min                 0.450000                0.360000               0.080000   \n",
       "25%                 1.296000                0.950000               0.760000   \n",
       "50%                 1.490000                1.030000               0.860000   \n",
       "75%                 1.720000                1.280000               1.000000   \n",
       "max                 6.360000                4.620000               3.830000   \n",
       "\n",
       "0      Sixth Gear Ratio (:1)  Seventh Gear Ratio (:1)  Eighth Gear Ratio (:1)  \\\n",
       "count           13070.000000              4275.000000             3128.000000   \n",
       "mean                0.782912                 0.784824                0.659625   \n",
       "std                 0.153854                 0.159695                0.064355   \n",
       "min                 0.075000                 0.000000                0.000000   \n",
       "25%                 0.680000                 0.730000                0.660000   \n",
       "50%                 0.750000                 0.839000                0.670000   \n",
       "75%                 0.880000                 0.840000                0.670000   \n",
       "max                 3.130000                 4.330000                0.850000   \n",
       "\n",
       "0      Reverse Ratio (:1)  Final Drive Axle Ratio (:1)  \n",
       "count        24336.000000                 18188.000000  \n",
       "mean             3.147366                     3.702522  \n",
       "std              0.702880                     0.658005  \n",
       "min              0.730000                     2.050000  \n",
       "25%              2.700000                     3.210000  \n",
       "50%              3.290000                     3.650000  \n",
       "75%              3.530000                     4.110000  \n",
       "max             14.070000                     6.470000  "
      ]
     },
     "execution_count": 134,
     "metadata": {},
     "output_type": "execute_result"
    }
   ],
   "source": [
    "# auto_df_clean.describe()"
   ]
  },
  {
   "cell_type": "code",
   "execution_count": 105,
   "metadata": {},
   "outputs": [],
   "source": [
    "high_hp_brands = auto_df_clean[[\"Year\", \"Brand\", \"Model\", \"Style Name\", \"Horsepower\", \"Torque\"]][auto_df_clean[\"Horsepower\"] > 600].groupby(\"Brand\")"
   ]
  },
  {
   "cell_type": "code",
   "execution_count": 106,
   "metadata": {},
   "outputs": [],
   "source": [
    "# auto_df_clean[auto_df_clean[\"Brand\"] == \"Porsche\"]"
   ]
  },
  {
   "cell_type": "code",
   "execution_count": 107,
   "metadata": {},
   "outputs": [],
   "source": [
    "# auto_df_clean[\"Engine Type\"].unique()"
   ]
  },
  {
   "cell_type": "code",
   "execution_count": 108,
   "metadata": {},
   "outputs": [],
   "source": [
    "# auto_df_clean[\"Brand\"].unique()"
   ]
  },
  {
   "cell_type": "markdown",
   "metadata": {},
   "source": [
    "|<br>|<br>|<br>|<br>|<br>|<br>|<br>|<br>|<br>|<br>|<br>|<br>|<br>\n"
   ]
  },
  {
   "cell_type": "code",
   "execution_count": 135,
   "metadata": {},
   "outputs": [
    {
     "data": {
      "application/vnd.jupyter.widget-view+json": {
       "model_id": "a419d345e8d64b058d9a669ce1d9c754",
       "version_major": 2,
       "version_minor": 0
      },
      "text/plain": [
       "HBox(children=(FloatProgress(value=0.0, description='variables', max=42.0, style=ProgressStyle(description_wid…"
      ]
     },
     "metadata": {},
     "output_type": "display_data"
    },
    {
     "name": "stdout",
     "output_type": "stream",
     "text": [
      "\n"
     ]
    },
    {
     "data": {
      "application/vnd.jupyter.widget-view+json": {
       "model_id": "de0642a581e54d8d98ed7538f9ded9a2",
       "version_major": 2,
       "version_minor": 0
      },
      "text/plain": [
       "HBox(children=(FloatProgress(value=0.0, description='correlations', max=6.0, style=ProgressStyle(description_w…"
      ]
     },
     "metadata": {},
     "output_type": "display_data"
    },
    {
     "name": "stdout",
     "output_type": "stream",
     "text": [
      "\n"
     ]
    },
    {
     "data": {
      "application/vnd.jupyter.widget-view+json": {
       "model_id": "10d63b705e37455faf3e9344a92d4058",
       "version_major": 2,
       "version_minor": 0
      },
      "text/plain": [
       "HBox(children=(FloatProgress(value=0.0, description='interactions [continuous]', max=361.0, style=ProgressStyl…"
      ]
     },
     "metadata": {},
     "output_type": "display_data"
    },
    {
     "name": "stdout",
     "output_type": "stream",
     "text": [
      "\n"
     ]
    },
    {
     "data": {
      "application/vnd.jupyter.widget-view+json": {
       "model_id": "4f4c67d8dc964e148393e8eaf17d28e5",
       "version_major": 2,
       "version_minor": 0
      },
      "text/plain": [
       "HBox(children=(FloatProgress(value=0.0, description='table', max=1.0, style=ProgressStyle(description_width='i…"
      ]
     },
     "metadata": {},
     "output_type": "display_data"
    },
    {
     "name": "stdout",
     "output_type": "stream",
     "text": [
      "\n"
     ]
    },
    {
     "data": {
      "application/vnd.jupyter.widget-view+json": {
       "model_id": "1610aad37f3245bb807b49a37f861c2c",
       "version_major": 2,
       "version_minor": 0
      },
      "text/plain": [
       "HBox(children=(FloatProgress(value=0.0, description='missing', max=4.0, style=ProgressStyle(description_width=…"
      ]
     },
     "metadata": {},
     "output_type": "display_data"
    },
    {
     "name": "stdout",
     "output_type": "stream",
     "text": [
      "\n"
     ]
    },
    {
     "data": {
      "application/vnd.jupyter.widget-view+json": {
       "model_id": "7edca2586e7149f8ba38430356dc5df3",
       "version_major": 2,
       "version_minor": 0
      },
      "text/plain": [
       "HBox(children=(FloatProgress(value=0.0, description='warnings', max=3.0, style=ProgressStyle(description_width…"
      ]
     },
     "metadata": {},
     "output_type": "display_data"
    },
    {
     "name": "stdout",
     "output_type": "stream",
     "text": [
      "\n"
     ]
    },
    {
     "data": {
      "application/vnd.jupyter.widget-view+json": {
       "model_id": "d98e93f9385f4573a4929193b3424cd7",
       "version_major": 2,
       "version_minor": 0
      },
      "text/plain": [
       "HBox(children=(FloatProgress(value=0.0, description='package', max=1.0, style=ProgressStyle(description_width=…"
      ]
     },
     "metadata": {},
     "output_type": "display_data"
    },
    {
     "name": "stdout",
     "output_type": "stream",
     "text": [
      "\n"
     ]
    },
    {
     "data": {
      "application/vnd.jupyter.widget-view+json": {
       "model_id": "faa0f6442f56446b9aa0da2404aaffdb",
       "version_major": 2,
       "version_minor": 0
      },
      "text/plain": [
       "HBox(children=(FloatProgress(value=0.0, description='build report structure', max=1.0, style=ProgressStyle(des…"
      ]
     },
     "metadata": {},
     "output_type": "display_data"
    },
    {
     "name": "stdout",
     "output_type": "stream",
     "text": [
      "\n"
     ]
    }
   ],
   "source": [
    "profile = ProfileReport(auto_df_clean, title='theCarConnection Profiling Report', html={'style':{'full_width':True}})"
   ]
  },
  {
   "cell_type": "code",
   "execution_count": 136,
   "metadata": {},
   "outputs": [
    {
     "data": {
      "application/vnd.jupyter.widget-view+json": {
       "model_id": "2eb166fb08014a6d8a62ad4857e09f2f",
       "version_major": 2,
       "version_minor": 0
      },
      "text/plain": [
       "Tab(children=(Tab(children=(GridBox(children=(VBox(children=(GridspecLayout(children=(HTML(value='Number of va…"
      ]
     },
     "metadata": {},
     "output_type": "display_data"
    },
    {
     "data": {
      "text/html": [
       "Report generated with <a href=\"https://github.com/pandas-profiling/pandas-profiling\">pandas-profiling</a>."
      ],
      "text/plain": [
       "<IPython.core.display.HTML object>"
      ]
     },
     "metadata": {},
     "output_type": "display_data"
    }
   ],
   "source": [
    "profile.to_widgets()"
   ]
  }
 ],
 "metadata": {
  "kernelspec": {
   "display_name": "Python 3",
   "language": "python",
   "name": "python3"
  },
  "language_info": {
   "codemirror_mode": {
    "name": "ipython",
    "version": 3
   },
   "file_extension": ".py",
   "mimetype": "text/x-python",
   "name": "python",
   "nbconvert_exporter": "python",
   "pygments_lexer": "ipython3",
   "version": "3.8.2"
  }
 },
 "nbformat": 4,
 "nbformat_minor": 4
}
