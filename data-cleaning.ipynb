{
 "cells": [
  {
   "cell_type": "code",
   "execution_count": 1,
   "metadata": {},
   "outputs": [
    {
     "data": {
      "text/html": [
       "<style>.container { width:90% !important; }</style>"
      ],
      "text/plain": [
       "<IPython.core.display.HTML object>"
      ]
     },
     "metadata": {},
     "output_type": "display_data"
    }
   ],
   "source": [
    "# IPython Imports\n",
    "# Used to make notebook wider, comment out for normal notebook\n",
    "from IPython.core.display import display, HTMLCylinders\n",
    "display(HTML(\"<style>.container { width:90% !important; }</style>\"))\n",
    "from IPython.display import clear_output"
   ]
  },
  {
   "cell_type": "code",
   "execution_count": 42,
   "metadata": {
    "execution": {
     "iopub.status.idle": "2020-04-05T03:05:11.446686Z",
     "shell.execute_reply": "2020-04-05T03:05:11.445833Z",
     "shell.execute_reply.started": "2020-04-05T03:05:11.384909Z"
    }
   },
   "outputs": [],
   "source": [
    "# Import Libraries\n",
    "import boto3\n",
    "import csv\n",
    "import numpy as np\n",
    "import pandas as pd\n",
    "from pandas_profiling import ProfileReport\n",
    "import re\n",
    "from typing import List, Dict, Callable"
   ]
  },
  {
   "cell_type": "code",
   "execution_count": 83,
   "metadata": {},
   "outputs": [],
   "source": [
    "# GLOBAL HELPER FUNCTIONS\n",
    "def print_ref(d_obj:Dict[str, any], row_len:int=4) -> None:\n",
    "    ref = \\\n",
    "f\"\"\" ---------------------------\n",
    "| OBJECT KEYS FOR REFERENCE |\n",
    " ---------------------------\n",
    "\"\"\"\n",
    "    row = 0\n",
    "    for key in d_obj.keys():\n",
    "        if row == row_len: \n",
    "            row = 0\n",
    "            ref += \"\\n\"\n",
    "        ref += f\" {key} |\"\n",
    "        row += 1\n",
    "    print(ref)\n",
    "    \n",
    "def parse_col(col_list:List[str], data_frame:pd.DataFrame=None) -> List[str]:\n",
    "    res, len_ = [], len(col_list) + 1\n",
    "    df_exists = data_frame is not None\n",
    "    for num, col in enumerate(col_list):\n",
    "        example = data_frame[col].iloc[0] if df_exists else \"None\"\n",
    "        ans = input(f\"\"\"\n",
    "Item #: {num + 1}/{len_}\n",
    "Column: {col}\n",
    "Example: {example}\n",
    "[y/n] Default[n] -> \"\"\").lower()\n",
    "        clear_output()\n",
    "        if ans == \"y\":\n",
    "            res.append(col)\n",
    "    return res\n",
    "\n",
    "def arrange_col(col_list:List[str], data_frame:pd.DataFrame=None) -> List[str]:\n",
    "    cur, cols, i = [], list(col_list), 0\n",
    "    df_exists = data_frame is not None\n",
    "    \n",
    "    while cols:\n",
    "        if i == len(cols) - 1:\n",
    "            i = 0\n",
    "            \n",
    "        x = cols[i]\n",
    "        example = data_frame[x].iloc[0] if df_exists else \"None\"\n",
    "        \n",
    "        ans = input(f\"\"\"\n",
    "Original:{cols}\n",
    "\n",
    "\n",
    "Current: {cur}\n",
    "\n",
    "------------------\n",
    "Column: {x}\n",
    "\n",
    "Example: {example}\n",
    "\"\"\").lower()\n",
    "        \n",
    "        if ans == \"y\":\n",
    "            cur.append(cols.pop(i))\n",
    "        else:\n",
    "            i += 1\n",
    "        clear_output()\n",
    "        \n",
    "    \n",
    "    return cur\n"
   ]
  },
  {
   "cell_type": "code",
   "execution_count": 4,
   "metadata": {},
   "outputs": [],
   "source": [
    "# GLOBAL VARS\n",
    "BKT_NAME = 'ds-data-2020'\n",
    "\n",
    "# DATASET NAMES\n",
    "the_cc = \"thecarconnectiondataset.csv\" # Main Dataset\n",
    "motortrend = \"motortrend1974.csv\" # Currently Not Using\n",
    "car_feat_msrp = \"carfeaturesmsrp.csv\" # Currently Not Using\n",
    "\n",
    "# SET DATA PATH/KEYS\n",
    "KEY = the_cc"
   ]
  },
  {
   "cell_type": "code",
   "execution_count": 5,
   "metadata": {},
   "outputs": [
    {
     "name": "stdout",
     "output_type": "stream",
     "text": [
      " ---------------------------\n",
      "| OBJECT KEYS FOR REFERENCE |\n",
      " ---------------------------\n",
      " ResponseMetadata | AcceptRanges | LastModified | ContentLength |\n",
      " ETag | ContentType | Metadata | Body |\n"
     ]
    }
   ],
   "source": [
    "# Create boto3 s3 Client Object\n",
    "s3 = boto3.client('s3')\n",
    "# Create s3 Bucket Object -> Dict\n",
    "obj = s3.get_object(Bucket=BKT_NAME, Key=KEY)\n",
    "\n",
    "# obj_keys = obj.keys()\n",
    "print_ref(obj)\n"
   ]
  },
  {
   "cell_type": "code",
   "execution_count": 6,
   "metadata": {
    "execution": {
     "iopub.execute_input": "2020-04-05T03:05:11.461313Z",
     "iopub.status.busy": "2020-04-05T03:05:11.460755Z"
    }
   },
   "outputs": [],
   "source": [
    "# Convert Bucket File to transposed pd.DataFrame\n",
    "auto_df = pd.read_csv(obj['Body'], index_col=0, header=None, low_memory=False).T"
   ]
  },
  {
   "cell_type": "code",
   "execution_count": 7,
   "metadata": {},
   "outputs": [],
   "source": [
    "# Rename known NaN columns\n",
    "auto_df.rename(columns={ auto_df.columns[0]: \"Model\" }, inplace = True)"
   ]
  },
  {
   "cell_type": "code",
   "execution_count": 8,
   "metadata": {},
   "outputs": [],
   "source": [
    "# Get only wanted columns\n",
    "# col = parse_col(auto_df.columns, auto_df)\n",
    "\n",
    "# col = [\"Model\", 'MSRP', 'Gas Mileage', 'Engine', 'EPA Class', 'Style Name', 'Drivetrain', 'Passenger Capacity', 'Passenger Doors', 'Body Style', 'Transmission', 'Base Curb Weight (lbs)', 'Wheelbase (in)', 'Min Ground Clearance (in)', 'Track Width, Front (in)', 'Track Width, Rear (in)', 'Height, Overall (in)', 'Fuel Economy Est-Combined (MPG)', 'SAE Net Torque @ RPM', 'Fuel System', 'Engine Type', 'SAE Net Horsepower @ RPM', 'Displacement', 'First Gear Ratio (:1)', 'Sixth Gear Ratio (:1)', 'Fourth Gear Ratio (:1)', 'Seventh Gear Ratio (:1)', 'Second Gear Ratio (:1)', 'Reverse Ratio (:1)', 'Fifth Gear Ratio (:1)', 'Eighth Gear Ratio (:1)', 'Third Gear Ratio (:1)', 'Final Drive Axle Ratio (:1)', 'Steering Type', 'Front Tire Size', 'Rear Tire Size']"
   ]
  },
  {
   "cell_type": "code",
   "execution_count": 9,
   "metadata": {},
   "outputs": [],
   "source": [
    "# Save wanted col to txt file\n",
    "# with open(\"data/wanted_col.txt\", \"w\") as text_file:\n",
    "#     for item in col:\n",
    "#         text_file.write(item + \"\\n\")"
   ]
  },
  {
   "cell_type": "code",
   "execution_count": 10,
   "metadata": {},
   "outputs": [],
   "source": [
    "# Get list of column from wanted_col.txt\n",
    "wanted_col = open(\"data/wanted_col.txt\", \"r\").read().splitlines()\n",
    "# Extract columns to new df\n",
    "auto_df_clean = auto_df[wanted_col].copy()"
   ]
  },
  {
   "cell_type": "code",
   "execution_count": 11,
   "metadata": {},
   "outputs": [],
   "source": [
    "# Clean Model Column to only contain year and name\n",
    "auto_df_clean[\"Model\"] =  [i.partition('Specs')[0] for i in auto_df_clean.Model]"
   ]
  },
  {
   "cell_type": "code",
   "execution_count": 12,
   "metadata": {},
   "outputs": [],
   "source": [
    "# Create Year Column from Model Column\n",
    "auto_df_clean.insert(0, \"Year\", [re.search(\"([^\\s]+)\",x).group() for x in auto_df_clean[\"Model\"]])"
   ]
  },
  {
   "cell_type": "code",
   "execution_count": 13,
   "metadata": {},
   "outputs": [],
   "source": [
    "# Cast Year Column to Int\n",
    "auto_df_clean[\"Year\"] = auto_df_clean[\"Year\"].astype(int) "
   ]
  },
  {
   "cell_type": "code",
   "execution_count": 112,
   "metadata": {},
   "outputs": [],
   "source": [
    "# Clean Model Column to only contain name\n",
    "auto_df_clean[\"Model\"] =  [(re.search(\"\\s(.*)\", i).group()) for i in auto_df_clean[\"Model\"]]"
   ]
  },
  {
   "cell_type": "code",
   "execution_count": 15,
   "metadata": {},
   "outputs": [],
   "source": [
    "# Create Brand Column from Model Column\n",
    "auto_df_clean.insert(1, \"Brand\", [re.search(\"([^\\s]+)\", x).group() for x in auto_df_clean[\"Model\"]])"
   ]
  },
  {
   "cell_type": "code",
   "execution_count": 16,
   "metadata": {},
   "outputs": [],
   "source": [
    "# Clean Model Column to only contain model\n",
    "auto_df_clean[\"Model\"] =  [(re.search(\"\\s(.*)\", i).group(1)) for i in auto_df_clean.Model]"
   ]
  },
  {
   "cell_type": "code",
   "execution_count": 17,
   "metadata": {},
   "outputs": [],
   "source": [
    "# Get rid of all nan values in Gas Mileage\n",
    "nans = pd.notnull(auto_df_clean['Gas Mileage'])\n",
    "auto_df_clean = auto_df_clean[nans]"
   ]
  },
  {
   "cell_type": "code",
   "execution_count": 18,
   "metadata": {},
   "outputs": [],
   "source": [
    "# Split Gas Mileage into City and Hwy\n",
    "auto_df_clean.insert(4, \"Gas Mileage (City)\", [(x.partition(\"/\")[0].partition(\" \")[0]) for x in auto_df_clean[\"Gas Mileage\"]])\n",
    "auto_df_clean.insert(5, \"Gas Mileage (Hwy)\", [(x.partition(\"/\")[2].partition(\" \")[0]) for x in auto_df_clean[\"Gas Mileage\"]])"
   ]
  },
  {
   "cell_type": "code",
   "execution_count": 19,
   "metadata": {},
   "outputs": [],
   "source": [
    "# Gas Mileage to INT\n",
    "auto_df_clean['Gas Mileage (City)'] = pd.to_numeric(auto_df_clean['Gas Mileage (City)'])\n",
    "auto_df_clean['Gas Mileage (Hwy)'] = pd.to_numeric(auto_df_clean['Gas Mileage (Hwy)'])"
   ]
  },
  {
   "cell_type": "code",
   "execution_count": 20,
   "metadata": {},
   "outputs": [],
   "source": [
    "# Drop Gas Mileage Column after split\n",
    "auto_df_clean.drop(columns=[\"Gas Mileage\"], inplace=True)"
   ]
  },
  {
   "cell_type": "code",
   "execution_count": 21,
   "metadata": {},
   "outputs": [],
   "source": [
    "# Clean Gear Ratio Columns\n",
    "gears = [\"First Gear Ratio (:1)\", \"Second Gear Ratio (:1)\", \"Third Gear Ratio (:1)\", \"Fourth Gear Ratio (:1)\", \"Fifth Gear Ratio (:1)\", \"Sixth Gear Ratio (:1)\", \"Seventh Gear Ratio (:1)\", \"Eighth Gear Ratio (:1)\", \"Reverse Ratio (:1)\", \"Final Drive Axle Ratio (:1)\"]\n",
    "\n",
    "# Reorder Gears Numerically\n",
    "for idx, column in enumerate(gears, 26):\n",
    "    col = auto_df_clean[column]\n",
    "    auto_df_clean.drop(labels=[column], axis=1,inplace = True)\n",
    "    auto_df_clean.insert(idx, column, col)\n",
    "    \n",
    "# Cast NaN to values in col with \"- TBD -\"\n",
    "for gear in gears:\n",
    "    auto_df_clean.loc[auto_df_clean[gear].str.contains(\"TBD\", na=False), gear] = np.nan"
   ]
  },
  {
   "cell_type": "code",
   "execution_count": 22,
   "metadata": {},
   "outputs": [],
   "source": [
    "# Cast float to values in col with string arithmetic\n",
    "\"Notes: Some gear columns need to be sep with (,), (/), or (\" \") delimiters\"\n",
    "for gear in gears:\n",
    "    auto_df_clean[gear] = pd.to_numeric([\n",
    "        (x.partition(\",\")[0]) if ((type(x) == str) and (\",\" in x)) \n",
    "        else (x.partition(\"/\")[0]) if ((type(x) == str) and (\"/\" in x))\n",
    "        else (x.partition(\"-\")[0]) if ((type(x) == str) and (\"-\" in x))\n",
    "        else (x.partition(\" \")[0]) if ((type(x) == str) and (\" \" in x))\n",
    "        else x for x in auto_df_clean[gear]\n",
    "    ], downcast=\"float\", errors=\"coerce\")"
   ]
  },
  {
   "cell_type": "code",
   "execution_count": 23,
   "metadata": {},
   "outputs": [],
   "source": [
    "# Cast MSRP to Numeric Float\n",
    "auto_df_clean[\"MSRP\"] = pd.to_numeric((auto_df_clean[\"MSRP\"].replace('[\\$,]', '', regex=True)), downcast=\"integer\", errors=\"coerce\")\n",
    "# Rename MSRP to indicate $\n",
    "auto_df_clean.rename(columns={ \"MSRP\": \"MSRP($)\" }, inplace = True)"
   ]
  },
  {
   "cell_type": "code",
   "execution_count": 24,
   "metadata": {},
   "outputs": [],
   "source": [
    "# Get rid of all nan values in Horsepower/Torque\n",
    "nans = pd.notnull(auto_df_clean['SAE Net Torque @ RPM'])\n",
    "auto_df_clean = auto_df_clean[nans]"
   ]
  },
  {
   "cell_type": "code",
   "execution_count": 25,
   "metadata": {},
   "outputs": [],
   "source": [
    "# Split SAE Horsepower into Horsepower and @ RPM\n",
    "auto_df_clean.insert(4, \"Horsepower\", [(x.partition(\"@\")[0]) for x in auto_df_clean[\"SAE Net Horsepower @ RPM\"]])\n",
    "auto_df_clean.insert(5, \"@ RPM (HP)\", [(x.partition(\"@\")[2]) for x in auto_df_clean[\"SAE Net Horsepower @ RPM\"]])"
   ]
  },
  {
   "cell_type": "code",
   "execution_count": 26,
   "metadata": {},
   "outputs": [],
   "source": [
    "# Split SAE Torque into Torque and @ RPM\n",
    "auto_df_clean.insert(6, \"Torque\", [(x.partition(\"@\")[0]) for x in auto_df_clean[\"SAE Net Torque @ RPM\"]])\n",
    "auto_df_clean.insert(7, \"@ RPM (TQ)\", [(x.partition(\"@\")[2]) for x in auto_df_clean[\"SAE Net Torque @ RPM\"]])"
   ]
  },
  {
   "cell_type": "code",
   "execution_count": 27,
   "metadata": {},
   "outputs": [],
   "source": [
    "# Clean and Cast Power Values (Horsepower / Torque)\n",
    "pow_rpm_ratings = [\"Horsepower\", \"Torque\", \"@ RPM (HP)\", \"@ RPM (TQ)\"]\n",
    "\"Notes: Some Power columns need to be sep with (@), or (-) delimiters\"\n",
    "# Cast NaN to values in col with empty ratings or \"- TBD -\"\n",
    "for col in pow_rpm_ratings:\n",
    "    auto_df_clean.loc[auto_df_clean[col].str.contains(\"TBD\", na=False), col] = np.nan\n",
    "    if col in pow_rpm_ratings[:2]:\n",
    "        auto_df_clean[col] = pd.to_numeric(auto_df_clean[col], downcast=\"float\", errors=\"coerce\")"
   ]
  },
  {
   "cell_type": "code",
   "execution_count": 28,
   "metadata": {},
   "outputs": [],
   "source": [
    "# Drop SAE Horsepower and SAE Torque Columns after splits\n",
    "auto_df_clean.drop(columns=[\"SAE Net Horsepower @ RPM\"], inplace=True)\n",
    "auto_df_clean.drop(columns=[\"SAE Net Torque @ RPM\"], inplace=True)"
   ]
  },
  {
   "cell_type": "code",
   "execution_count": 29,
   "metadata": {},
   "outputs": [],
   "source": [
    "# Clean Base Curb Weight and Cast to INT\n",
    "auto_df_clean[\"Base Curb Weight (lbs)\"] = pd.to_numeric(auto_df_clean[\"Base Curb Weight (lbs)\"], downcast=\"integer\", errors=\"coerce\")"
   ]
  },
  {
   "cell_type": "code",
   "execution_count": 30,
   "metadata": {},
   "outputs": [],
   "source": [
    "# Clean Displacement and Cast to INT\n",
    "auto_df_clean[\"Displacement\"] = pd.to_numeric(\n",
    "    [(x.partition(\"L\")[0]) if type(x) == str else x for x in auto_df_clean[\"Displacement\"]], \n",
    "    downcast=\"float\", \n",
    "    errors=\"coerce\"\n",
    ")\n",
    "auto_df_clean.rename(columns={ \"Displacement\": \"Displacement(L)\" }, inplace = True)"
   ]
  },
  {
   "cell_type": "code",
   "execution_count": 31,
   "metadata": {},
   "outputs": [],
   "source": [
    "# Clean Passenger Doors and Cast to INT\n",
    "auto_df_clean[\"Passenger Doors\"] = pd.to_numeric(auto_df_clean[\"Passenger Doors\"], downcast=\"integer\", errors=\"raise\")"
   ]
  },
  {
   "cell_type": "code",
   "execution_count": 32,
   "metadata": {},
   "outputs": [],
   "source": [
    "# Clean Combined Fuel Economy Doors and Cast to INT\n",
    "auto_df_clean[\"Fuel Economy Est-Combined (MPG)\"] = pd.to_numeric(auto_df_clean[\"Fuel Economy Est-Combined (MPG)\"], downcast=\"integer\", errors=\"coerce\")\n",
    "auto_df_clean.rename(columns={ \"Fuel Economy Est-Combined (MPG)\": \"Gas Mileage (Combined)\" }, inplace = True)"
   ]
  },
  {
   "cell_type": "code",
   "execution_count": 93,
   "metadata": {},
   "outputs": [],
   "source": [
    "# # Save Rearranged col to txt file\n",
    "# with open(\"data/rearranged_col.txt\", \"w\") as text_file:\n",
    "#     for item in res:\n",
    "#         text_file.write(item + \"\\n\")\n",
    "\n",
    "# Rearrange All Columns before Export (read from rearranged_col.txt)\n",
    "order = []\n",
    "with open(\"data/rearranged_col.txt\", \"r\") as text_file:\n",
    "    order = [x.strip() for x in text_file.readlines()]\n",
    "auto_df_clean = auto_df_clean[order]"
   ]
  },
  {
   "cell_type": "code",
   "execution_count": 130,
   "metadata": {},
   "outputs": [
    {
     "ename": "ValueError",
     "evalue": "cannot insert Cylinders, already exists",
     "output_type": "error",
     "traceback": [
      "\u001b[0;31m---------------------------------------------------------------------------\u001b[0m",
      "\u001b[0;31mValueError\u001b[0m                                Traceback (most recent call last)",
      "\u001b[0;32m<ipython-input-130-c2a37f7f6a96>\u001b[0m in \u001b[0;36m<module>\u001b[0;34m\u001b[0m\n\u001b[1;32m     10\u001b[0m \u001b[0;34m\u001b[0m\u001b[0m\n\u001b[1;32m     11\u001b[0m \u001b[0;31m# Parse Engine Type for Cylinders and Insert Feature\u001b[0m\u001b[0;34m\u001b[0m\u001b[0;34m\u001b[0m\u001b[0;34m\u001b[0m\u001b[0m\n\u001b[0;32m---> 12\u001b[0;31m \u001b[0mauto_df_clean\u001b[0m\u001b[0;34m.\u001b[0m\u001b[0minsert\u001b[0m\u001b[0;34m(\u001b[0m\u001b[0;36m8\u001b[0m\u001b[0;34m,\u001b[0m \u001b[0;34m\"Cylinders\"\u001b[0m\u001b[0;34m,\u001b[0m \u001b[0mauto_df_clean\u001b[0m\u001b[0;34m[\u001b[0m\u001b[0;34m\"Engine Type\"\u001b[0m\u001b[0;34m]\u001b[0m\u001b[0;34m.\u001b[0m\u001b[0mstr\u001b[0m\u001b[0;34m.\u001b[0m\u001b[0mextract\u001b[0m\u001b[0;34m(\u001b[0m\u001b[0;34m'(\\d+)'\u001b[0m\u001b[0;34m)\u001b[0m\u001b[0;34m)\u001b[0m\u001b[0;34m\u001b[0m\u001b[0;34m\u001b[0m\u001b[0m\n\u001b[0m",
      "\u001b[0;32m~/.local/lib/python3.8/site-packages/pandas/core/frame.py\u001b[0m in \u001b[0;36minsert\u001b[0;34m(self, loc, column, value, allow_duplicates)\u001b[0m\n\u001b[1;32m   3589\u001b[0m         \u001b[0mself\u001b[0m\u001b[0;34m.\u001b[0m\u001b[0m_ensure_valid_index\u001b[0m\u001b[0;34m(\u001b[0m\u001b[0mvalue\u001b[0m\u001b[0;34m)\u001b[0m\u001b[0;34m\u001b[0m\u001b[0;34m\u001b[0m\u001b[0m\n\u001b[1;32m   3590\u001b[0m         \u001b[0mvalue\u001b[0m \u001b[0;34m=\u001b[0m \u001b[0mself\u001b[0m\u001b[0;34m.\u001b[0m\u001b[0m_sanitize_column\u001b[0m\u001b[0;34m(\u001b[0m\u001b[0mcolumn\u001b[0m\u001b[0;34m,\u001b[0m \u001b[0mvalue\u001b[0m\u001b[0;34m,\u001b[0m \u001b[0mbroadcast\u001b[0m\u001b[0;34m=\u001b[0m\u001b[0;32mFalse\u001b[0m\u001b[0;34m)\u001b[0m\u001b[0;34m\u001b[0m\u001b[0;34m\u001b[0m\u001b[0m\n\u001b[0;32m-> 3591\u001b[0;31m         \u001b[0mself\u001b[0m\u001b[0;34m.\u001b[0m\u001b[0m_data\u001b[0m\u001b[0;34m.\u001b[0m\u001b[0minsert\u001b[0m\u001b[0;34m(\u001b[0m\u001b[0mloc\u001b[0m\u001b[0;34m,\u001b[0m \u001b[0mcolumn\u001b[0m\u001b[0;34m,\u001b[0m \u001b[0mvalue\u001b[0m\u001b[0;34m,\u001b[0m \u001b[0mallow_duplicates\u001b[0m\u001b[0;34m=\u001b[0m\u001b[0mallow_duplicates\u001b[0m\u001b[0;34m)\u001b[0m\u001b[0;34m\u001b[0m\u001b[0;34m\u001b[0m\u001b[0m\n\u001b[0m\u001b[1;32m   3592\u001b[0m \u001b[0;34m\u001b[0m\u001b[0m\n\u001b[1;32m   3593\u001b[0m     \u001b[0;32mdef\u001b[0m \u001b[0massign\u001b[0m\u001b[0;34m(\u001b[0m\u001b[0mself\u001b[0m\u001b[0;34m,\u001b[0m \u001b[0;34m**\u001b[0m\u001b[0mkwargs\u001b[0m\u001b[0;34m)\u001b[0m\u001b[0;34m:\u001b[0m\u001b[0;34m\u001b[0m\u001b[0;34m\u001b[0m\u001b[0m\n",
      "\u001b[0;32m~/.local/lib/python3.8/site-packages/pandas/core/internals/managers.py\u001b[0m in \u001b[0;36minsert\u001b[0;34m(self, loc, item, value, allow_duplicates)\u001b[0m\n\u001b[1;32m   1171\u001b[0m         \u001b[0;32mif\u001b[0m \u001b[0;32mnot\u001b[0m \u001b[0mallow_duplicates\u001b[0m \u001b[0;32mand\u001b[0m \u001b[0mitem\u001b[0m \u001b[0;32min\u001b[0m \u001b[0mself\u001b[0m\u001b[0;34m.\u001b[0m\u001b[0mitems\u001b[0m\u001b[0;34m:\u001b[0m\u001b[0;34m\u001b[0m\u001b[0;34m\u001b[0m\u001b[0m\n\u001b[1;32m   1172\u001b[0m             \u001b[0;31m# Should this be a different kind of error??\u001b[0m\u001b[0;34m\u001b[0m\u001b[0;34m\u001b[0m\u001b[0;34m\u001b[0m\u001b[0m\n\u001b[0;32m-> 1173\u001b[0;31m             \u001b[0;32mraise\u001b[0m \u001b[0mValueError\u001b[0m\u001b[0;34m(\u001b[0m\u001b[0;34m\"cannot insert {}, already exists\"\u001b[0m\u001b[0;34m.\u001b[0m\u001b[0mformat\u001b[0m\u001b[0;34m(\u001b[0m\u001b[0mitem\u001b[0m\u001b[0;34m)\u001b[0m\u001b[0;34m)\u001b[0m\u001b[0;34m\u001b[0m\u001b[0;34m\u001b[0m\u001b[0m\n\u001b[0m\u001b[1;32m   1174\u001b[0m \u001b[0;34m\u001b[0m\u001b[0m\n\u001b[1;32m   1175\u001b[0m         \u001b[0;32mif\u001b[0m \u001b[0;32mnot\u001b[0m \u001b[0misinstance\u001b[0m\u001b[0;34m(\u001b[0m\u001b[0mloc\u001b[0m\u001b[0;34m,\u001b[0m \u001b[0mint\u001b[0m\u001b[0;34m)\u001b[0m\u001b[0;34m:\u001b[0m\u001b[0;34m\u001b[0m\u001b[0;34m\u001b[0m\u001b[0m\n",
      "\u001b[0;31mValueError\u001b[0m: cannot insert Cylinders, already exists"
     ]
    }
   ],
   "source": [
    "# Clean Engine Type\n",
    "\n",
    "# Drop Toyota Mirai (Hydrogen Powered Car)\n",
    "nans = pd.notnull(auto_df_clean['Engine Type'])\n",
    "auto_df_clean = auto_df_clean[nans]\n",
    "\n",
    "# Change Buick Regal Engine Type to \"Turbo Premium Unleaded I-4\"\n",
    "auto_df_clean[auto_df_clean[\"Engine Type\"] == \"Turbocharged\"] = \"Turbo Premium Unleaded I-4\"\n",
    "# Change Buick Regal Engine Type to \"Turbo Premium Unleaded I-4\"\n",
    "auto_df_clean[auto_df_clean[\"Engine Type\"] == \"Turbocharged Gas\"] = \"Turbo Premium Unleaded I-4\"\n",
    "# Change Chevrolet Cruze Engine Type to \"Turbo Premium Unleaded I-4\"\n",
    "auto_df_clean[auto_df_clean[\"Engine Type\"] == \"Turbo Diesel\"] = \"Turbo Diesel 4-cylinder\"\n",
    "\n",
    "\n",
    "# Parse Engine Type for Cylinders and Insert Feature\n",
    "auto_df_clean.insert(8, \"Cylinders\", auto_df_clean[\"Engine Type\"].str.extract('(\\d+)'))"
   ]
  },
  {
   "cell_type": "code",
   "execution_count": 131,
   "metadata": {},
   "outputs": [],
   "source": [
    "# Cast INT to Cylinders\n",
    "auto_df_clean[\"Cylinders\"] = pd.to_numeric(auto_df_clean[\"Cylinders\"], downcast=\"integer\", errors=\"raise\")"
   ]
  },
  {
   "cell_type": "code",
   "execution_count": 123,
   "metadata": {},
   "outputs": [],
   "source": [
    "# Clean Every String Cell by Strip\n",
    "auto_df_clean = auto_df_clean.applymap(lambda x: x.strip() if isinstance(x, str) else x)"
   ]
  },
  {
   "cell_type": "code",
   "execution_count": 36,
   "metadata": {},
   "outputs": [],
   "source": [
    "# auto_df_clean.head()"
   ]
  },
  {
   "cell_type": "code",
   "execution_count": 37,
   "metadata": {},
   "outputs": [],
   "source": [
    "# auto_df_clean.describe()"
   ]
  },
  {
   "cell_type": "code",
   "execution_count": 133,
   "metadata": {},
   "outputs": [],
   "source": [
    "# auto_df_clean.info()"
   ]
  },
  {
   "cell_type": "code",
   "execution_count": 141,
   "metadata": {},
   "outputs": [
    {
     "data": {
      "text/html": [
       "<div>\n",
       "<style scoped>\n",
       "    .dataframe tbody tr th:only-of-type {\n",
       "        vertical-align: middle;\n",
       "    }\n",
       "\n",
       "    .dataframe tbody tr th {\n",
       "        vertical-align: top;\n",
       "    }\n",
       "\n",
       "    .dataframe thead th {\n",
       "        text-align: right;\n",
       "    }\n",
       "</style>\n",
       "<table border=\"1\" class=\"dataframe\">\n",
       "  <thead>\n",
       "    <tr style=\"text-align: right;\">\n",
       "      <th></th>\n",
       "      <th>Year</th>\n",
       "      <th>Brand</th>\n",
       "      <th>Model</th>\n",
       "      <th>Style Name</th>\n",
       "      <th>Drivetrain</th>\n",
       "      <th>Horsepower</th>\n",
       "      <th>Torque</th>\n",
       "      <th>Engine Type</th>\n",
       "      <th>Cylinders</th>\n",
       "      <th>Displacement(L)</th>\n",
       "      <th>...</th>\n",
       "      <th>Passenger Capacity</th>\n",
       "      <th>Passenger Doors</th>\n",
       "      <th>Wheelbase (in)</th>\n",
       "      <th>Min Ground Clearance (in)</th>\n",
       "      <th>Track Width, Front (in)</th>\n",
       "      <th>Track Width, Rear (in)</th>\n",
       "      <th>Height, Overall (in)</th>\n",
       "      <th>@ RPM (HP)</th>\n",
       "      <th>@ RPM (TQ)</th>\n",
       "      <th>Rear Tire Size</th>\n",
       "    </tr>\n",
       "  </thead>\n",
       "  <tbody>\n",
       "    <tr>\n",
       "      <th>3184</th>\n",
       "      <td>2013</td>\n",
       "      <td>Buick</td>\n",
       "      <td>Regal</td>\n",
       "      <td>GS</td>\n",
       "      <td>Front Wheel Drive</td>\n",
       "      <td>270</td>\n",
       "      <td>295</td>\n",
       "      <td>Turbocharged Gas</td>\n",
       "      <td>NaN</td>\n",
       "      <td>2</td>\n",
       "      <td>...</td>\n",
       "      <td>5</td>\n",
       "      <td>4</td>\n",
       "      <td>107.8</td>\n",
       "      <td>- TBD -</td>\n",
       "      <td>62.4</td>\n",
       "      <td>62.5</td>\n",
       "      <td>58.0</td>\n",
       "      <td>5300</td>\n",
       "      <td>2500-4000</td>\n",
       "      <td>P245/40R19</td>\n",
       "    </tr>\n",
       "    <tr>\n",
       "      <th>3191</th>\n",
       "      <td>2012</td>\n",
       "      <td>Buick</td>\n",
       "      <td>Regal</td>\n",
       "      <td>GS</td>\n",
       "      <td>Front Wheel Drive</td>\n",
       "      <td>270</td>\n",
       "      <td>295</td>\n",
       "      <td>Turbocharged Gas</td>\n",
       "      <td>NaN</td>\n",
       "      <td>2</td>\n",
       "      <td>...</td>\n",
       "      <td>5</td>\n",
       "      <td>4</td>\n",
       "      <td>107.8</td>\n",
       "      <td>- TBD -</td>\n",
       "      <td>62.4</td>\n",
       "      <td>62.5</td>\n",
       "      <td>58.0</td>\n",
       "      <td>5300</td>\n",
       "      <td>2500-4000</td>\n",
       "      <td>P245/40R19</td>\n",
       "    </tr>\n",
       "  </tbody>\n",
       "</table>\n",
       "<p>2 rows × 42 columns</p>\n",
       "</div>"
      ],
      "text/plain": [
       "0     Year  Brand  Model Style Name         Drivetrain Horsepower Torque  \\\n",
       "3184  2013  Buick  Regal         GS  Front Wheel Drive        270    295   \n",
       "3191  2012  Buick  Regal         GS  Front Wheel Drive        270    295   \n",
       "\n",
       "0          Engine Type  Cylinders Displacement(L)  ... Passenger Capacity  \\\n",
       "3184  Turbocharged Gas        NaN               2  ...                  5   \n",
       "3191  Turbocharged Gas        NaN               2  ...                  5   \n",
       "\n",
       "0    Passenger Doors Wheelbase (in) Min Ground Clearance (in)  \\\n",
       "3184               4          107.8                   - TBD -   \n",
       "3191               4          107.8                   - TBD -   \n",
       "\n",
       "0    Track Width, Front (in) Track Width, Rear (in) Height, Overall (in)  \\\n",
       "3184                    62.4                   62.5                 58.0   \n",
       "3191                    62.4                   62.5                 58.0   \n",
       "\n",
       "0    @ RPM (HP) @ RPM (TQ) Rear Tire Size  \n",
       "3184       5300  2500-4000     P245/40R19  \n",
       "3191       5300  2500-4000     P245/40R19  \n",
       "\n",
       "[2 rows x 42 columns]"
      ]
     },
     "execution_count": 141,
     "metadata": {},
     "output_type": "execute_result"
    }
   ],
   "source": [
    "# Sandbox\n",
    "\n",
    "# sum(pd.isnull(auto_df_clean[\"Cylinders\"]))\n",
    "# auto_df_clean[pd.isnull(auto_df_clean[\"Cylinders\"])]\n",
    "\n",
    "# auto_df_clean[auto_df_clean[\"Engine Type\"] == \"Turbo Diesel\"]\n",
    "# auto_df_clean[auto_df_clean[\"Engine Type\"] == \"Turbocharged Gas\"]"
   ]
  }
 ],
 "metadata": {
  "kernelspec": {
   "display_name": "Python 3",
   "language": "python",
   "name": "python3"
  },
  "language_info": {
   "codemirror_mode": {
    "name": "ipython",
    "version": 3
   },
   "file_extension": ".py",
   "mimetype": "text/x-python",
   "name": "python",
   "nbconvert_exporter": "python",
   "pygments_lexer": "ipython3",
   "version": "3.8.2"
  }
 },
 "nbformat": 4,
 "nbformat_minor": 4
}
