{
 "cells": [
  {
   "cell_type": "code",
   "execution_count": 2,
   "metadata": {},
   "outputs": [
    {
     "data": {
      "text/html": [
       "<style>.container { width:90% !important; }</style>"
      ],
      "text/plain": [
       "<IPython.core.display.HTML object>"
      ]
     },
     "metadata": {},
     "output_type": "display_data"
    }
   ],
   "source": [
    "# IPython Imports\n",
    "# Used to make notebook wider, comment out for normal notebook\n",
    "from IPython.core.display import display, HTML\n",
    "display(HTML(\"<style>.container { width:90% !important; }</style>\"))\n",
    "from IPython.display import clear_output"
   ]
  },
  {
   "cell_type": "code",
   "execution_count": 3,
   "metadata": {
    "execution": {
     "iopub.status.idle": "2020-04-05T03:05:11.446686Z",
     "shell.execute_reply": "2020-04-05T03:05:11.445833Z",
     "shell.execute_reply.started": "2020-04-05T03:05:11.384909Z"
    }
   },
   "outputs": [],
   "source": [
    "# Import Libraries\n",
    "import boto3\n",
    "import csv\n",
    "import numpy as np\n",
    "import pandas as pd\n",
    "import matplotlib.pyplot as plt\n",
    "import re\n",
    "from typing import List, Dict, Callable"
   ]
  },
  {
   "cell_type": "code",
   "execution_count": 4,
   "metadata": {},
   "outputs": [],
   "source": [
    "# GLOBAL HELPER FUNCTIONS\n",
    "def print_ref(d_obj:Dict[str, any], row_len:int=4) -> None:\n",
    "    ref = \\\n",
    "f\"\"\" ---------------------------\n",
    "| OBJECT KEYS FOR REFERENCE |\n",
    " ---------------------------\n",
    "\"\"\"\n",
    "    row = 0\n",
    "    for key in d_obj.keys():\n",
    "        if row == row_len: \n",
    "            row = 0\n",
    "            ref += \"\\n\"\n",
    "        ref += f\" {key} |\"\n",
    "        row += 1\n",
    "    print(ref)\n",
    "    \n",
    "def parse_col(col_list:List[str], data_frame:pd.DataFrame=None) -> List[str]:\n",
    "    res, len_ = [], len(col_list) + 1\n",
    "    df_exists = data_frame is not None\n",
    "    for num, col in enumerate(col_list):\n",
    "        example = data_frame[col].iloc[0] if df_exists else \"None\"\n",
    "        ans = input(f\"\"\"\n",
    "Item #: {num + 1}/{len_}\n",
    "Column: {col}\n",
    "Example: {example}\n",
    "[y/n] Default[n] -> \"\"\").lower()\n",
    "        clear_output()\n",
    "        if ans == \"y\":\n",
    "            res.append(col)\n",
    "    return res\n"
   ]
  },
  {
   "cell_type": "code",
   "execution_count": 5,
   "metadata": {},
   "outputs": [],
   "source": [
    "# GLOBAL VARS\n",
    "BKT_NAME = 'ds-data-2020'\n",
    "\n",
    "# DATASET NAMES\n",
    "the_cc = \"thecarconnectiondataset.csv\" # Main Dataset\n",
    "motortrend = \"motortrend1974.csv\" # Currently Not Using\n",
    "car_feat_msrp = \"carfeaturesmsrp.csv\" # Currently Not Using\n",
    "\n",
    "# SET DATA PATH/KEYS\n",
    "KEY = the_cc"
   ]
  },
  {
   "cell_type": "code",
   "execution_count": 6,
   "metadata": {},
   "outputs": [
    {
     "name": "stdout",
     "output_type": "stream",
     "text": [
      " ---------------------------\n",
      "| OBJECT KEYS FOR REFERENCE |\n",
      " ---------------------------\n",
      " ResponseMetadata | AcceptRanges | LastModified | ContentLength |\n",
      " ETag | ContentType | Metadata | Body |\n"
     ]
    }
   ],
   "source": [
    "# Create boto3 s3 Client Object\n",
    "s3 = boto3.client('s3')\n",
    "# Create s3 Bucket Object -> Dict\n",
    "obj = s3.get_object(Bucket=BKT_NAME, Key=KEY)\n",
    "\n",
    "# obj_keys = obj.keys()\n",
    "print_ref(obj)\n"
   ]
  },
  {
   "cell_type": "code",
   "execution_count": 7,
   "metadata": {
    "execution": {
     "iopub.execute_input": "2020-04-05T03:05:11.461313Z",
     "iopub.status.busy": "2020-04-05T03:05:11.460755Z"
    }
   },
   "outputs": [],
   "source": [
    "# Might have to chunk data\n",
    "chk_size = 2000\n",
    "\n",
    "\n",
    "# Convert Bucket File to transposed pd.DataFrame\n",
    "auto_df = pd.read_csv(obj['Body'], index_col=0, header=None, low_memory=False).T"
   ]
  },
  {
   "cell_type": "code",
   "execution_count": 8,
   "metadata": {},
   "outputs": [],
   "source": [
    "# Rename known NaN columns\n",
    "auto_df.rename(columns={ auto_df.columns[0]: \"Model\" }, inplace = True)"
   ]
  },
  {
   "cell_type": "code",
   "execution_count": 9,
   "metadata": {},
   "outputs": [],
   "source": [
    "# Get only wanted columns\n",
    "# col = parse_col(auto_df.columns, auto_df)\n",
    "\n",
    "# col = [\"Model\", 'MSRP', 'Gas Mileage', 'Engine', 'EPA Class', 'Style Name', 'Drivetrain', 'Passenger Capacity', 'Passenger Doors', 'Body Style', 'Transmission', 'Base Curb Weight (lbs)', 'Wheelbase (in)', 'Min Ground Clearance (in)', 'Track Width, Front (in)', 'Track Width, Rear (in)', 'Height, Overall (in)', 'Fuel Economy Est-Combined (MPG)', 'SAE Net Torque @ RPM', 'Fuel System', 'Engine Type', 'SAE Net Horsepower @ RPM', 'Displacement', 'First Gear Ratio (:1)', 'Sixth Gear Ratio (:1)', 'Fourth Gear Ratio (:1)', 'Seventh Gear Ratio (:1)', 'Second Gear Ratio (:1)', 'Reverse Ratio (:1)', 'Fifth Gear Ratio (:1)', 'Eighth Gear Ratio (:1)', 'Third Gear Ratio (:1)', 'Final Drive Axle Ratio (:1)', 'Steering Type', 'Front Tire Size', 'Rear Tire Size']"
   ]
  },
  {
   "cell_type": "code",
   "execution_count": 10,
   "metadata": {},
   "outputs": [],
   "source": [
    "# Save wanted col to txt file\n",
    "# with open(\"data/wanted_col.txt\", \"w\") as text_file:\n",
    "#     for item in col:\n",
    "#         text_file.write(item + \"\\n\")"
   ]
  },
  {
   "cell_type": "code",
   "execution_count": 11,
   "metadata": {},
   "outputs": [],
   "source": [
    "# Get list of column from wanted_col.txt\n",
    "wanted_col = open(\"data/wanted_col.txt\", \"r\").read().splitlines()\n",
    "# Extract columns to new df\n",
    "auto_df_clean = auto_df[wanted_col].copy()"
   ]
  },
  {
   "cell_type": "code",
   "execution_count": 12,
   "metadata": {},
   "outputs": [],
   "source": [
    "# Clean Model Column to only contain year and name\n",
    "auto_df_clean[\"Model\"] =  [i.partition('Specs')[0] for i in auto_df_clean.Model]"
   ]
  },
  {
   "cell_type": "code",
   "execution_count": 13,
   "metadata": {},
   "outputs": [],
   "source": [
    "# Create Year Column from Model Column\n",
    "auto_df_clean.insert(0, \"Year\", [re.search(\"([^\\s]+)\",x).group() for x in auto_df_clean[\"Model\"]])"
   ]
  },
  {
   "cell_type": "code",
   "execution_count": 14,
   "metadata": {},
   "outputs": [],
   "source": [
    "# Clean Model Column to only contain name\n",
    "auto_df_clean[\"Model\"] =  [(re.search(\"\\s(.*)\", i).group()) for i in auto_df_clean.Model]"
   ]
  },
  {
   "cell_type": "code",
   "execution_count": 15,
   "metadata": {},
   "outputs": [],
   "source": [
    "# Create Brand Column from Model Column\n",
    "auto_df_clean.insert(1, \"Brand\", [re.search(\"([^\\s]+)\", x).group() for x in auto_df_clean[\"Model\"]])"
   ]
  },
  {
   "cell_type": "code",
   "execution_count": 29,
   "metadata": {},
   "outputs": [],
   "source": [
    "# Clean Model Column to only contain model\n",
    "auto_df_clean[\"Model\"] =  [(re.search(\"\\s(.*)\", i).group(1)) for i in auto_df_clean.Model]"
   ]
  },
  {
   "cell_type": "code",
   "execution_count": 17,
   "metadata": {},
   "outputs": [],
   "source": [
    "# Get rid of all nan values in Gas Mileage\n",
    "nans = pd.notnull(auto_df_clean['Gas Mileage'])\n",
    "auto_df_clean = auto_df_clean[nans]"
   ]
  },
  {
   "cell_type": "code",
   "execution_count": 18,
   "metadata": {},
   "outputs": [],
   "source": [
    "# Split Gas Mileage into City and Hwy\n",
    "auto_df_clean.insert(4, \"Gas Mileage (City)\", [(x.partition(\"/\")[0].partition(\" \")[0]) for x in auto_df_clean[\"Gas Mileage\"]])\n",
    "auto_df_clean.insert(5, \"Gas Mileage (Hwy)\", [(x.partition(\"/\")[2].partition(\" \")[0]) for x in auto_df_clean[\"Gas Mileage\"]])"
   ]
  },
  {
   "cell_type": "code",
   "execution_count": 19,
   "metadata": {},
   "outputs": [],
   "source": [
    "# Gas Mileage to INT\n",
    "# auto_df_clean.astype({\n",
    "#     \"Gas Mileage (City)\" : \"int32\",\n",
    "#     \"Gas Mileage (Hwy)\" : \"int32\"\n",
    "# })\n",
    "auto_df_clean['Gas Mileage (City)'] = pd.to_numeric(auto_df_clean['Gas Mileage (City)'])\n",
    "auto_df_clean['Gas Mileage (Hwy)'] = pd.to_numeric(auto_df_clean['Gas Mileage (Hwy)'])"
   ]
  },
  {
   "cell_type": "code",
   "execution_count": 20,
   "metadata": {},
   "outputs": [],
   "source": [
    "auto_df_clean.drop(columns=[\"Gas Mileage\"], inplace=True)"
   ]
  },
  {
   "cell_type": "code",
   "execution_count": 30,
   "metadata": {
    "scrolled": true
   },
   "outputs": [
    {
     "data": {
      "text/html": [
       "<div>\n",
       "<style scoped>\n",
       "    .dataframe tbody tr th:only-of-type {\n",
       "        vertical-align: middle;\n",
       "    }\n",
       "\n",
       "    .dataframe tbody tr th {\n",
       "        vertical-align: top;\n",
       "    }\n",
       "\n",
       "    .dataframe thead th {\n",
       "        text-align: right;\n",
       "    }\n",
       "</style>\n",
       "<table border=\"1\" class=\"dataframe\">\n",
       "  <thead>\n",
       "    <tr style=\"text-align: right;\">\n",
       "      <th></th>\n",
       "      <th>Year</th>\n",
       "      <th>Brand</th>\n",
       "      <th>Model</th>\n",
       "      <th>MSRP</th>\n",
       "      <th>Gas Mileage (City)</th>\n",
       "      <th>Gas Mileage (Hwy)</th>\n",
       "      <th>Engine</th>\n",
       "      <th>EPA Class</th>\n",
       "      <th>Style Name</th>\n",
       "      <th>Drivetrain</th>\n",
       "      <th>...</th>\n",
       "      <th>Seventh Gear Ratio (:1)</th>\n",
       "      <th>Second Gear Ratio (:1)</th>\n",
       "      <th>Reverse Ratio (:1)</th>\n",
       "      <th>Fifth Gear Ratio (:1)</th>\n",
       "      <th>Eighth Gear Ratio (:1)</th>\n",
       "      <th>Third Gear Ratio (:1)</th>\n",
       "      <th>Final Drive Axle Ratio (:1)</th>\n",
       "      <th>Steering Type</th>\n",
       "      <th>Front Tire Size</th>\n",
       "      <th>Rear Tire Size</th>\n",
       "    </tr>\n",
       "  </thead>\n",
       "  <tbody>\n",
       "    <tr>\n",
       "      <th>1</th>\n",
       "      <td>2019</td>\n",
       "      <td>Acura</td>\n",
       "      <td>RDX</td>\n",
       "      <td>$40,600</td>\n",
       "      <td>22</td>\n",
       "      <td>28.0</td>\n",
       "      <td>Turbo Premium Unleaded I-4, 2.0 L</td>\n",
       "      <td>Small Sport Utility Vehicles 2WD</td>\n",
       "      <td>FWD w/Technology Pkg</td>\n",
       "      <td>Front Wheel Drive</td>\n",
       "      <td>...</td>\n",
       "      <td>0.78</td>\n",
       "      <td>3.27</td>\n",
       "      <td>3.97</td>\n",
       "      <td>1.30</td>\n",
       "      <td>0.65</td>\n",
       "      <td>2.19</td>\n",
       "      <td>4.17</td>\n",
       "      <td>Rack-Pinion</td>\n",
       "      <td>P235/55HR19</td>\n",
       "      <td>P235/55HR19</td>\n",
       "    </tr>\n",
       "    <tr>\n",
       "      <th>2</th>\n",
       "      <td>2019</td>\n",
       "      <td>Acura</td>\n",
       "      <td>RDX</td>\n",
       "      <td>$45,500</td>\n",
       "      <td>22</td>\n",
       "      <td>28.0</td>\n",
       "      <td>Turbo Premium Unleaded I-4, 2.0 L</td>\n",
       "      <td>Small Sport Utility Vehicles 2WD</td>\n",
       "      <td>FWD w/Advance Pkg</td>\n",
       "      <td>Front Wheel Drive</td>\n",
       "      <td>...</td>\n",
       "      <td>0.78</td>\n",
       "      <td>3.27</td>\n",
       "      <td>3.97</td>\n",
       "      <td>1.30</td>\n",
       "      <td>0.65</td>\n",
       "      <td>2.19</td>\n",
       "      <td>4.17</td>\n",
       "      <td>Rack-Pinion</td>\n",
       "      <td>P235/55HR19</td>\n",
       "      <td>P235/55HR19</td>\n",
       "    </tr>\n",
       "    <tr>\n",
       "      <th>3</th>\n",
       "      <td>2019</td>\n",
       "      <td>Acura</td>\n",
       "      <td>RDX</td>\n",
       "      <td>$43,600</td>\n",
       "      <td>22</td>\n",
       "      <td>27.0</td>\n",
       "      <td>Turbo Premium Unleaded I-4, 2.0 L</td>\n",
       "      <td>Small Sport Utility Vehicles 2WD</td>\n",
       "      <td>FWD w/A-Spec Pkg</td>\n",
       "      <td>Front Wheel Drive</td>\n",
       "      <td>...</td>\n",
       "      <td>0.78</td>\n",
       "      <td>3.27</td>\n",
       "      <td>3.97</td>\n",
       "      <td>1.30</td>\n",
       "      <td>0.65</td>\n",
       "      <td>2.19</td>\n",
       "      <td>4.17</td>\n",
       "      <td>Rack-Pinion</td>\n",
       "      <td>P255/45VR20</td>\n",
       "      <td>P255/45VR20</td>\n",
       "    </tr>\n",
       "    <tr>\n",
       "      <th>4</th>\n",
       "      <td>2019</td>\n",
       "      <td>Acura</td>\n",
       "      <td>RDX</td>\n",
       "      <td>$37,400</td>\n",
       "      <td>22</td>\n",
       "      <td>28.0</td>\n",
       "      <td>Turbo Premium Unleaded I-4, 2.0 L</td>\n",
       "      <td>Small Sport Utility Vehicles 2WD</td>\n",
       "      <td>FWD</td>\n",
       "      <td>Front Wheel Drive</td>\n",
       "      <td>...</td>\n",
       "      <td>0.78</td>\n",
       "      <td>3.27</td>\n",
       "      <td>3.97</td>\n",
       "      <td>1.30</td>\n",
       "      <td>0.65</td>\n",
       "      <td>2.19</td>\n",
       "      <td>4.17</td>\n",
       "      <td>Rack-Pinion</td>\n",
       "      <td>P235/55HR19</td>\n",
       "      <td>P235/55HR19</td>\n",
       "    </tr>\n",
       "    <tr>\n",
       "      <th>5</th>\n",
       "      <td>2019</td>\n",
       "      <td>Acura</td>\n",
       "      <td>RDX</td>\n",
       "      <td>$42,600</td>\n",
       "      <td>21</td>\n",
       "      <td>27.0</td>\n",
       "      <td>Turbo Premium Unleaded I-4, 2.0 L</td>\n",
       "      <td>Small Sport Utility Vehicles 4WD</td>\n",
       "      <td>AWD w/Technology Pkg</td>\n",
       "      <td>All Wheel Drive</td>\n",
       "      <td>...</td>\n",
       "      <td>0.78</td>\n",
       "      <td>3.27</td>\n",
       "      <td>3.97</td>\n",
       "      <td>1.30</td>\n",
       "      <td>0.65</td>\n",
       "      <td>2.19</td>\n",
       "      <td>4.17</td>\n",
       "      <td>Rack-Pinion</td>\n",
       "      <td>P235/55HR19</td>\n",
       "      <td>P235/55HR19</td>\n",
       "    </tr>\n",
       "  </tbody>\n",
       "</table>\n",
       "<p>5 rows × 39 columns</p>\n",
       "</div>"
      ],
      "text/plain": [
       "0  Year  Brand Model     MSRP  Gas Mileage (City)  Gas Mileage (Hwy)  \\\n",
       "1  2019  Acura  RDX   $40,600                  22               28.0   \n",
       "2  2019  Acura  RDX   $45,500                  22               28.0   \n",
       "3  2019  Acura  RDX   $43,600                  22               27.0   \n",
       "4  2019  Acura  RDX   $37,400                  22               28.0   \n",
       "5  2019  Acura  RDX   $42,600                  21               27.0   \n",
       "\n",
       "0                             Engine                         EPA Class  \\\n",
       "1  Turbo Premium Unleaded I-4, 2.0 L  Small Sport Utility Vehicles 2WD   \n",
       "2  Turbo Premium Unleaded I-4, 2.0 L  Small Sport Utility Vehicles 2WD   \n",
       "3  Turbo Premium Unleaded I-4, 2.0 L  Small Sport Utility Vehicles 2WD   \n",
       "4  Turbo Premium Unleaded I-4, 2.0 L  Small Sport Utility Vehicles 2WD   \n",
       "5  Turbo Premium Unleaded I-4, 2.0 L  Small Sport Utility Vehicles 4WD   \n",
       "\n",
       "0            Style Name         Drivetrain  ... Seventh Gear Ratio (:1)  \\\n",
       "1  FWD w/Technology Pkg  Front Wheel Drive  ...                    0.78   \n",
       "2     FWD w/Advance Pkg  Front Wheel Drive  ...                    0.78   \n",
       "3      FWD w/A-Spec Pkg  Front Wheel Drive  ...                    0.78   \n",
       "4                   FWD  Front Wheel Drive  ...                    0.78   \n",
       "5  AWD w/Technology Pkg    All Wheel Drive  ...                    0.78   \n",
       "\n",
       "0 Second Gear Ratio (:1) Reverse Ratio (:1) Fifth Gear Ratio (:1)  \\\n",
       "1                   3.27               3.97                  1.30   \n",
       "2                   3.27               3.97                  1.30   \n",
       "3                   3.27               3.97                  1.30   \n",
       "4                   3.27               3.97                  1.30   \n",
       "5                   3.27               3.97                  1.30   \n",
       "\n",
       "0 Eighth Gear Ratio (:1) Third Gear Ratio (:1) Final Drive Axle Ratio (:1)  \\\n",
       "1                   0.65                  2.19                        4.17   \n",
       "2                   0.65                  2.19                        4.17   \n",
       "3                   0.65                  2.19                        4.17   \n",
       "4                   0.65                  2.19                        4.17   \n",
       "5                   0.65                  2.19                        4.17   \n",
       "\n",
       "0 Steering Type Front Tire Size Rear Tire Size  \n",
       "1   Rack-Pinion     P235/55HR19    P235/55HR19  \n",
       "2   Rack-Pinion     P235/55HR19    P235/55HR19  \n",
       "3   Rack-Pinion     P255/45VR20    P255/45VR20  \n",
       "4   Rack-Pinion     P235/55HR19    P235/55HR19  \n",
       "5   Rack-Pinion     P235/55HR19    P235/55HR19  \n",
       "\n",
       "[5 rows x 39 columns]"
      ]
     },
     "execution_count": 30,
     "metadata": {},
     "output_type": "execute_result"
    }
   ],
   "source": [
    "auto_df_clean.head()"
   ]
  },
  {
   "cell_type": "code",
   "execution_count": 22,
   "metadata": {
    "scrolled": true
   },
   "outputs": [
    {
     "name": "stdout",
     "output_type": "stream",
     "text": [
      "<class 'pandas.core.frame.DataFrame'>\n",
      "Int64Index: 26292 entries, 1 to 32316\n",
      "Data columns (total 39 columns):\n",
      " #   Column                           Non-Null Count  Dtype  \n",
      "---  ------                           --------------  -----  \n",
      " 0   Year                             26292 non-null  object \n",
      " 1   Brand                            26292 non-null  object \n",
      " 2   Model                            26292 non-null  object \n",
      " 3   MSRP                             26269 non-null  object \n",
      " 4   Gas Mileage (City)               26292 non-null  int64  \n",
      " 5   Gas Mileage (Hwy)                26284 non-null  float64\n",
      " 6   Engine                           26291 non-null  object \n",
      " 7   EPA Class                        26291 non-null  object \n",
      " 8   Style Name                       26292 non-null  object \n",
      " 9   Drivetrain                       26292 non-null  object \n",
      " 10  Passenger Capacity               26292 non-null  object \n",
      " 11  Passenger Doors                  26292 non-null  object \n",
      " 12  Body Style                       26292 non-null  object \n",
      " 13  Transmission                     24422 non-null  object \n",
      " 14  Base Curb Weight (lbs)           18838 non-null  object \n",
      " 15  Wheelbase (in)                   26290 non-null  object \n",
      " 16  Min Ground Clearance (in)        17148 non-null  object \n",
      " 17  Track Width, Front (in)          19540 non-null  object \n",
      " 18  Track Width, Rear (in)           19539 non-null  object \n",
      " 19  Height, Overall (in)             26269 non-null  object \n",
      " 20  Fuel Economy Est-Combined (MPG)  16802 non-null  object \n",
      " 21  SAE Net Torque @ RPM             26284 non-null  object \n",
      " 22  Fuel System                      26068 non-null  object \n",
      " 23  Engine Type                      26291 non-null  object \n",
      " 24  SAE Net Horsepower @ RPM         26292 non-null  object \n",
      " 25  Displacement                     26291 non-null  object \n",
      " 26  First Gear Ratio (:1)            25850 non-null  object \n",
      " 27  Sixth Gear Ratio (:1)            13686 non-null  object \n",
      " 28  Fourth Gear Ratio (:1)           24629 non-null  object \n",
      " 29  Seventh Gear Ratio (:1)          4582 non-null   object \n",
      " 30  Second Gear Ratio (:1)           24645 non-null  object \n",
      " 31  Reverse Ratio (:1)               25999 non-null  object \n",
      " 32  Fifth Gear Ratio (:1)            20344 non-null  object \n",
      " 33  Eighth Gear Ratio (:1)           3352 non-null   object \n",
      " 34  Third Gear Ratio (:1)            24638 non-null  object \n",
      " 35  Final Drive Axle Ratio (:1)      18835 non-null  object \n",
      " 36  Steering Type                    26292 non-null  object \n",
      " 37  Front Tire Size                  26289 non-null  object \n",
      " 38  Rear Tire Size                   26291 non-null  object \n",
      "dtypes: float64(1), int64(1), object(37)\n",
      "memory usage: 8.0+ MB\n"
     ]
    }
   ],
   "source": [
    "auto_df_clean.info()"
   ]
  },
  {
   "cell_type": "code",
   "execution_count": 28,
   "metadata": {},
   "outputs": [],
   "source": [
    "# auto_df_clean[\"Displacement\"]"
   ]
  },
  {
   "cell_type": "code",
   "execution_count": 27,
   "metadata": {},
   "outputs": [
    {
     "data": {
      "text/plain": [
       "array(['Acura', 'Alfa', 'Aston', 'Audi', 'Bentley', 'BMW', 'Buick',\n",
       "       'Cadillac', 'Chevrolet', 'Chrysler', 'Dodge', 'Ferrari', 'FIAT',\n",
       "       'Ford', 'Genesis', 'GMC', 'Honda', 'Hyundai', 'INFINITI', 'Jaguar',\n",
       "       'Jeep', 'Kia', 'Lamborghini', 'Land', 'Lexus', 'Lincoln', 'Lotus',\n",
       "       'Maserati', 'Mazda', 'McLaren', 'Mercedes-Benz', 'MINI',\n",
       "       'Mitsubishi', 'Nissan', 'Porsche', 'Ram', 'Rolls-Royce', 'smart',\n",
       "       'Subaru', 'Toyota', 'Volkswagen', 'Volvo'], dtype=object)"
      ]
     },
     "execution_count": 27,
     "metadata": {},
     "output_type": "execute_result"
    }
   ],
   "source": [
    "auto_df_clean.Brand.unique()"
   ]
  },
  {
   "cell_type": "code",
   "execution_count": 31,
   "metadata": {},
   "outputs": [
    {
     "data": {
      "text/plain": [
       "array(['2019', '2018', '2016', '2015', '2014', '2013', '2012', '2011',\n",
       "       '2010', '2009', '2008', '2007', '2006', '2005', '2004', '2003',\n",
       "       '2002', '2001', '2000', '1999', '1998', '1997', '1996'],\n",
       "      dtype=object)"
      ]
     },
     "execution_count": 31,
     "metadata": {},
     "output_type": "execute_result"
    }
   ],
   "source": [
    "auto_df_clean.Year.unique()"
   ]
  },
  {
   "cell_type": "code",
   "execution_count": null,
   "metadata": {},
   "outputs": [],
   "source": []
  },
  {
   "cell_type": "code",
   "execution_count": null,
   "metadata": {},
   "outputs": [],
   "source": []
  }
 ],
 "metadata": {
  "kernelspec": {
   "display_name": "Python 3",
   "language": "python",
   "name": "python3"
  },
  "language_info": {
   "codemirror_mode": {
    "name": "ipython",
    "version": 3
   },
   "file_extension": ".py",
   "mimetype": "text/x-python",
   "name": "python",
   "nbconvert_exporter": "python",
   "pygments_lexer": "ipython3",
   "version": "3.8.2"
  }
 },
 "nbformat": 4,
 "nbformat_minor": 4
}
