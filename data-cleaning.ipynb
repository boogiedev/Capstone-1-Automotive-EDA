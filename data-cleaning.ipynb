{
 "cells": [
  {
   "cell_type": "code",
   "execution_count": 61,
   "metadata": {},
   "outputs": [
    {
     "data": {
      "text/html": [
       "<style>.container { width:90% !important; }</style>"
      ],
      "text/plain": [
       "<IPython.core.display.HTML object>"
      ]
     },
     "metadata": {},
     "output_type": "display_data"
    }
   ],
   "source": [
    "# IPython Imports\n",
    "\n",
    "# Used to make notebook wider, comment out for normal notebook\n",
    "from IPython.core.display import display, HTML\n",
    "display(HTML(\"<style>.container { width:90% !important; }</style>\"))\n",
    "from IPython.display import clear_output"
   ]
  },
  {
   "cell_type": "code",
   "execution_count": 62,
   "metadata": {
    "execution": {
     "iopub.status.idle": "2020-04-05T03:05:11.446686Z",
     "shell.execute_reply": "2020-04-05T03:05:11.445833Z",
     "shell.execute_reply.started": "2020-04-05T03:05:11.384909Z"
    }
   },
   "outputs": [],
   "source": [
    "# Import Libraries\n",
    "import boto3\n",
    "import csv\n",
    "import numpy as np\n",
    "import pandas as pd\n",
    "import matplotlib.pyplot as plt\n",
    "from typing import List, Dict, Callable"
   ]
  },
  {
   "cell_type": "code",
   "execution_count": 63,
   "metadata": {},
   "outputs": [],
   "source": [
    "# GLOBAL HELPER FUNCTIONS\n",
    "def print_ref(d_obj:Dict[str, any], row_len:int=4) -> None:\n",
    "    ref = \\\n",
    "f\"\"\" ---------------------------\n",
    "| OBJECT KEYS FOR REFERENCE |\n",
    " ---------------------------\n",
    "\"\"\"\n",
    "    row = 0\n",
    "    for key in d_obj.keys():\n",
    "        if row == row_len: \n",
    "            row = 0\n",
    "            ref += \"\\n\"\n",
    "        ref += f\" {key} |\"\n",
    "        row += 1\n",
    "    print(ref)\n",
    "    \n",
    "def parse_col(col_list:List[str], data_frame:pd.DataFrame=None) -> List[str]:\n",
    "    res, len_ = [], len(col_list) + 1\n",
    "    df_exists = data_frame is not None\n",
    "    for num, col in enumerate(col_list):\n",
    "        example = data_frame[col].iloc[0] if df_exists else \"None\"\n",
    "        ans = input(f\"\"\"\n",
    "Item #: {num + 1}/{len_}\n",
    "Column: {col}\n",
    "Example: {example}\n",
    "[y/n] Default[n] -> \"\"\").lower()\n",
    "        clear_output()\n",
    "        if ans == \"y\":\n",
    "            res.append(col)\n",
    "    return res\n",
    "            "
   ]
  },
  {
   "cell_type": "code",
   "execution_count": 64,
   "metadata": {},
   "outputs": [],
   "source": [
    "# GLOBAL VARS\n",
    "BKT_NAME = 'ds-data-2020'\n",
    "\n",
    "# DATASET NAMES\n",
    "the_cc = \"thecarconnectiondataset.csv\" # Main Dataset\n",
    "motortrend = \"motortrend1974.csv\" # Currently Not Using\n",
    "car_feat_msrp = \"carfeaturesmsrp.csv\" # Currently Not Using\n",
    "\n",
    "# SET DATA PATH/KEYS\n",
    "KEY = the_cc"
   ]
  },
  {
   "cell_type": "code",
   "execution_count": 65,
   "metadata": {},
   "outputs": [
    {
     "name": "stdout",
     "output_type": "stream",
     "text": [
      " ---------------------------\n",
      "| OBJECT KEYS FOR REFERENCE |\n",
      " ---------------------------\n",
      " ResponseMetadata | AcceptRanges | LastModified | ContentLength |\n",
      " ETag | ContentType | Metadata | Body |\n"
     ]
    }
   ],
   "source": [
    "# Create boto3 s3 Client Object\n",
    "s3 = boto3.client('s3')\n",
    "# Create s3 Bucket Object -> Dict\n",
    "obj = s3.get_object(Bucket=BKT_NAME, Key=KEY)\n",
    "\n",
    "# obj_keys = obj.keys()\n",
    "print_ref(obj)\n"
   ]
  },
  {
   "cell_type": "code",
   "execution_count": 66,
   "metadata": {
    "execution": {
     "iopub.execute_input": "2020-04-05T03:05:11.461313Z",
     "iopub.status.busy": "2020-04-05T03:05:11.460755Z"
    }
   },
   "outputs": [],
   "source": [
    "# Might have to chunk data\n",
    "chk_size = 2000\n",
    "\n",
    "\n",
    "# Convert Bucket File to transposed pd.DataFrame\n",
    "auto_df = pd.read_csv(obj['Body'], index_col=0, header=None, low_memory=False).T"
   ]
  },
  {
   "cell_type": "code",
   "execution_count": 67,
   "metadata": {},
   "outputs": [],
   "source": [
    "# Rename known NaN columns\n",
    "auto_df.rename(columns={ auto_df.columns[0]: \"Model\" }, inplace = True)"
   ]
  },
  {
   "cell_type": "code",
   "execution_count": 68,
   "metadata": {},
   "outputs": [],
   "source": [
    "# Get only wanted columns\n",
    "# col = parse_col(auto_df.columns, auto_df)\n",
    "\n",
    "# col = [\"Model\", 'MSRP', 'Gas Mileage', 'Engine', 'EPA Class', 'Style Name', 'Drivetrain', 'Passenger Capacity', 'Passenger Doors', 'Body Style', 'Transmission', 'Base Curb Weight (lbs)', 'Wheelbase (in)', 'Min Ground Clearance (in)', 'Track Width, Front (in)', 'Track Width, Rear (in)', 'Height, Overall (in)', 'Fuel Economy Est-Combined (MPG)', 'SAE Net Torque @ RPM', 'Fuel System', 'Engine Type', 'SAE Net Horsepower @ RPM', 'Displacement', 'First Gear Ratio (:1)', 'Sixth Gear Ratio (:1)', 'Fourth Gear Ratio (:1)', 'Seventh Gear Ratio (:1)', 'Second Gear Ratio (:1)', 'Reverse Ratio (:1)', 'Fifth Gear Ratio (:1)', 'Eighth Gear Ratio (:1)', 'Third Gear Ratio (:1)', 'Final Drive Axle Ratio (:1)', 'Steering Type', 'Front Tire Size', 'Rear Tire Size']"
   ]
  },
  {
   "cell_type": "code",
   "execution_count": null,
   "metadata": {},
   "outputs": [],
   "source": []
  },
  {
   "cell_type": "code",
   "execution_count": 69,
   "metadata": {},
   "outputs": [],
   "source": [
    "# Save wanted col to txt file\n",
    "# with open(\"wanted_col.txt\", \"w\") as text_file:\n",
    "#     for item in col:\n",
    "#         text_file.write(item + \"\\n\")\n",
    "    "
   ]
  },
  {
   "cell_type": "code",
   "execution_count": 71,
   "metadata": {},
   "outputs": [],
   "source": [
    "# Get list of column from wanted_col.txt\n",
    "wanted_col = open(\"wanted_col.txt\", \"r\").read().splitlines()\n",
    "# Extract columns to new df\n",
    "auto_df_clean = auto_df[wanted_col].copy()"
   ]
  },
  {
   "cell_type": "code",
   "execution_count": 72,
   "metadata": {},
   "outputs": [
    {
     "data": {
      "text/html": [
       "<div>\n",
       "<style scoped>\n",
       "    .dataframe tbody tr th:only-of-type {\n",
       "        vertical-align: middle;\n",
       "    }\n",
       "\n",
       "    .dataframe tbody tr th {\n",
       "        vertical-align: top;\n",
       "    }\n",
       "\n",
       "    .dataframe thead th {\n",
       "        text-align: right;\n",
       "    }\n",
       "</style>\n",
       "<table border=\"1\" class=\"dataframe\">\n",
       "  <thead>\n",
       "    <tr style=\"text-align: right;\">\n",
       "      <th></th>\n",
       "      <th>Model</th>\n",
       "      <th>MSRP</th>\n",
       "      <th>Gas Mileage</th>\n",
       "      <th>Engine</th>\n",
       "      <th>EPA Class</th>\n",
       "      <th>Style Name</th>\n",
       "      <th>Drivetrain</th>\n",
       "      <th>Passenger Capacity</th>\n",
       "      <th>Passenger Doors</th>\n",
       "      <th>Body Style</th>\n",
       "      <th>...</th>\n",
       "      <th>Seventh Gear Ratio (:1)</th>\n",
       "      <th>Second Gear Ratio (:1)</th>\n",
       "      <th>Reverse Ratio (:1)</th>\n",
       "      <th>Fifth Gear Ratio (:1)</th>\n",
       "      <th>Eighth Gear Ratio (:1)</th>\n",
       "      <th>Third Gear Ratio (:1)</th>\n",
       "      <th>Final Drive Axle Ratio (:1)</th>\n",
       "      <th>Steering Type</th>\n",
       "      <th>Front Tire Size</th>\n",
       "      <th>Rear Tire Size</th>\n",
       "    </tr>\n",
       "  </thead>\n",
       "  <tbody>\n",
       "    <tr>\n",
       "      <th>1</th>\n",
       "      <td>2019 Acura RDX Specs: FWD w/Technology Pkg</td>\n",
       "      <td>$40,600</td>\n",
       "      <td>22 mpg City/28 mpg Hwy</td>\n",
       "      <td>Turbo Premium Unleaded I-4, 2.0 L</td>\n",
       "      <td>Small Sport Utility Vehicles 2WD</td>\n",
       "      <td>FWD w/Technology Pkg</td>\n",
       "      <td>Front Wheel Drive</td>\n",
       "      <td>5</td>\n",
       "      <td>4</td>\n",
       "      <td>Sport Utility</td>\n",
       "      <td>...</td>\n",
       "      <td>0.78</td>\n",
       "      <td>3.27</td>\n",
       "      <td>3.97</td>\n",
       "      <td>1.30</td>\n",
       "      <td>0.65</td>\n",
       "      <td>2.19</td>\n",
       "      <td>4.17</td>\n",
       "      <td>Rack-Pinion</td>\n",
       "      <td>P235/55HR19</td>\n",
       "      <td>P235/55HR19</td>\n",
       "    </tr>\n",
       "    <tr>\n",
       "      <th>2</th>\n",
       "      <td>2019 Acura RDX Specs: FWD w/Advance Pkg</td>\n",
       "      <td>$45,500</td>\n",
       "      <td>22 mpg City/28 mpg Hwy</td>\n",
       "      <td>Turbo Premium Unleaded I-4, 2.0 L</td>\n",
       "      <td>Small Sport Utility Vehicles 2WD</td>\n",
       "      <td>FWD w/Advance Pkg</td>\n",
       "      <td>Front Wheel Drive</td>\n",
       "      <td>5</td>\n",
       "      <td>4</td>\n",
       "      <td>Sport Utility</td>\n",
       "      <td>...</td>\n",
       "      <td>0.78</td>\n",
       "      <td>3.27</td>\n",
       "      <td>3.97</td>\n",
       "      <td>1.30</td>\n",
       "      <td>0.65</td>\n",
       "      <td>2.19</td>\n",
       "      <td>4.17</td>\n",
       "      <td>Rack-Pinion</td>\n",
       "      <td>P235/55HR19</td>\n",
       "      <td>P235/55HR19</td>\n",
       "    </tr>\n",
       "    <tr>\n",
       "      <th>3</th>\n",
       "      <td>2019 Acura RDX Specs: FWD w/A-Spec Pkg</td>\n",
       "      <td>$43,600</td>\n",
       "      <td>22 mpg City/27 mpg Hwy</td>\n",
       "      <td>Turbo Premium Unleaded I-4, 2.0 L</td>\n",
       "      <td>Small Sport Utility Vehicles 2WD</td>\n",
       "      <td>FWD w/A-Spec Pkg</td>\n",
       "      <td>Front Wheel Drive</td>\n",
       "      <td>5</td>\n",
       "      <td>4</td>\n",
       "      <td>Sport Utility</td>\n",
       "      <td>...</td>\n",
       "      <td>0.78</td>\n",
       "      <td>3.27</td>\n",
       "      <td>3.97</td>\n",
       "      <td>1.30</td>\n",
       "      <td>0.65</td>\n",
       "      <td>2.19</td>\n",
       "      <td>4.17</td>\n",
       "      <td>Rack-Pinion</td>\n",
       "      <td>P255/45VR20</td>\n",
       "      <td>P255/45VR20</td>\n",
       "    </tr>\n",
       "    <tr>\n",
       "      <th>4</th>\n",
       "      <td>2019 Acura RDX Specs: FWD</td>\n",
       "      <td>$37,400</td>\n",
       "      <td>22 mpg City/28 mpg Hwy</td>\n",
       "      <td>Turbo Premium Unleaded I-4, 2.0 L</td>\n",
       "      <td>Small Sport Utility Vehicles 2WD</td>\n",
       "      <td>FWD</td>\n",
       "      <td>Front Wheel Drive</td>\n",
       "      <td>5</td>\n",
       "      <td>4</td>\n",
       "      <td>Sport Utility</td>\n",
       "      <td>...</td>\n",
       "      <td>0.78</td>\n",
       "      <td>3.27</td>\n",
       "      <td>3.97</td>\n",
       "      <td>1.30</td>\n",
       "      <td>0.65</td>\n",
       "      <td>2.19</td>\n",
       "      <td>4.17</td>\n",
       "      <td>Rack-Pinion</td>\n",
       "      <td>P235/55HR19</td>\n",
       "      <td>P235/55HR19</td>\n",
       "    </tr>\n",
       "    <tr>\n",
       "      <th>5</th>\n",
       "      <td>2019 Acura RDX Specs: AWD w/Technology Pkg</td>\n",
       "      <td>$42,600</td>\n",
       "      <td>21 mpg City/27 mpg Hwy</td>\n",
       "      <td>Turbo Premium Unleaded I-4, 2.0 L</td>\n",
       "      <td>Small Sport Utility Vehicles 4WD</td>\n",
       "      <td>AWD w/Technology Pkg</td>\n",
       "      <td>All Wheel Drive</td>\n",
       "      <td>5</td>\n",
       "      <td>4</td>\n",
       "      <td>Sport Utility</td>\n",
       "      <td>...</td>\n",
       "      <td>0.78</td>\n",
       "      <td>3.27</td>\n",
       "      <td>3.97</td>\n",
       "      <td>1.30</td>\n",
       "      <td>0.65</td>\n",
       "      <td>2.19</td>\n",
       "      <td>4.17</td>\n",
       "      <td>Rack-Pinion</td>\n",
       "      <td>P235/55HR19</td>\n",
       "      <td>P235/55HR19</td>\n",
       "    </tr>\n",
       "  </tbody>\n",
       "</table>\n",
       "<p>5 rows × 36 columns</p>\n",
       "</div>"
      ],
      "text/plain": [
       "0                                       Model     MSRP  \\\n",
       "1  2019 Acura RDX Specs: FWD w/Technology Pkg  $40,600   \n",
       "2     2019 Acura RDX Specs: FWD w/Advance Pkg  $45,500   \n",
       "3      2019 Acura RDX Specs: FWD w/A-Spec Pkg  $43,600   \n",
       "4                   2019 Acura RDX Specs: FWD  $37,400   \n",
       "5  2019 Acura RDX Specs: AWD w/Technology Pkg  $42,600   \n",
       "\n",
       "0             Gas Mileage                             Engine  \\\n",
       "1  22 mpg City/28 mpg Hwy  Turbo Premium Unleaded I-4, 2.0 L   \n",
       "2  22 mpg City/28 mpg Hwy  Turbo Premium Unleaded I-4, 2.0 L   \n",
       "3  22 mpg City/27 mpg Hwy  Turbo Premium Unleaded I-4, 2.0 L   \n",
       "4  22 mpg City/28 mpg Hwy  Turbo Premium Unleaded I-4, 2.0 L   \n",
       "5  21 mpg City/27 mpg Hwy  Turbo Premium Unleaded I-4, 2.0 L   \n",
       "\n",
       "0                         EPA Class            Style Name         Drivetrain  \\\n",
       "1  Small Sport Utility Vehicles 2WD  FWD w/Technology Pkg  Front Wheel Drive   \n",
       "2  Small Sport Utility Vehicles 2WD     FWD w/Advance Pkg  Front Wheel Drive   \n",
       "3  Small Sport Utility Vehicles 2WD      FWD w/A-Spec Pkg  Front Wheel Drive   \n",
       "4  Small Sport Utility Vehicles 2WD                   FWD  Front Wheel Drive   \n",
       "5  Small Sport Utility Vehicles 4WD  AWD w/Technology Pkg    All Wheel Drive   \n",
       "\n",
       "0 Passenger Capacity Passenger Doors     Body Style  ...  \\\n",
       "1                  5               4  Sport Utility  ...   \n",
       "2                  5               4  Sport Utility  ...   \n",
       "3                  5               4  Sport Utility  ...   \n",
       "4                  5               4  Sport Utility  ...   \n",
       "5                  5               4  Sport Utility  ...   \n",
       "\n",
       "0 Seventh Gear Ratio (:1) Second Gear Ratio (:1) Reverse Ratio (:1)  \\\n",
       "1                    0.78                   3.27               3.97   \n",
       "2                    0.78                   3.27               3.97   \n",
       "3                    0.78                   3.27               3.97   \n",
       "4                    0.78                   3.27               3.97   \n",
       "5                    0.78                   3.27               3.97   \n",
       "\n",
       "0 Fifth Gear Ratio (:1) Eighth Gear Ratio (:1) Third Gear Ratio (:1)  \\\n",
       "1                  1.30                   0.65                  2.19   \n",
       "2                  1.30                   0.65                  2.19   \n",
       "3                  1.30                   0.65                  2.19   \n",
       "4                  1.30                   0.65                  2.19   \n",
       "5                  1.30                   0.65                  2.19   \n",
       "\n",
       "0 Final Drive Axle Ratio (:1) Steering Type Front Tire Size Rear Tire Size  \n",
       "1                        4.17   Rack-Pinion     P235/55HR19    P235/55HR19  \n",
       "2                        4.17   Rack-Pinion     P235/55HR19    P235/55HR19  \n",
       "3                        4.17   Rack-Pinion     P255/45VR20    P255/45VR20  \n",
       "4                        4.17   Rack-Pinion     P235/55HR19    P235/55HR19  \n",
       "5                        4.17   Rack-Pinion     P235/55HR19    P235/55HR19  \n",
       "\n",
       "[5 rows x 36 columns]"
      ]
     },
     "execution_count": 72,
     "metadata": {},
     "output_type": "execute_result"
    }
   ],
   "source": [
    "auto_df_clean.head()"
   ]
  },
  {
   "cell_type": "code",
   "execution_count": null,
   "metadata": {},
   "outputs": [],
   "source": []
  },
  {
   "cell_type": "code",
   "execution_count": null,
   "metadata": {},
   "outputs": [],
   "source": []
  },
  {
   "cell_type": "code",
   "execution_count": null,
   "metadata": {},
   "outputs": [],
   "source": []
  },
  {
   "cell_type": "code",
   "execution_count": null,
   "metadata": {},
   "outputs": [],
   "source": []
  }
 ],
 "metadata": {
  "kernelspec": {
   "display_name": "Python 3",
   "language": "python",
   "name": "python3"
  },
  "language_info": {
   "codemirror_mode": {
    "name": "ipython",
    "version": 3
   },
   "file_extension": ".py",
   "mimetype": "text/x-python",
   "name": "python",
   "nbconvert_exporter": "python",
   "pygments_lexer": "ipython3",
   "version": "3.8.2"
  }
 },
 "nbformat": 4,
 "nbformat_minor": 4
}
