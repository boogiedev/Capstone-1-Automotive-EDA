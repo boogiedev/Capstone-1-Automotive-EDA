{
 "cells": [
  {
   "cell_type": "code",
   "execution_count": 1,
   "metadata": {},
   "outputs": [
    {
     "ename": "ImportError",
     "evalue": "cannot import name 'HTMLCylinders' from 'IPython.core.display' (/usr/lib/python3.8/site-packages/IPython/core/display.py)",
     "output_type": "error",
     "traceback": [
      "\u001b[0;31m---------------------------------------------------------------------------\u001b[0m",
      "\u001b[0;31mImportError\u001b[0m                               Traceback (most recent call last)",
      "\u001b[0;32m<ipython-input-1-eb86298dc8b9>\u001b[0m in \u001b[0;36m<module>\u001b[0;34m\u001b[0m\n\u001b[1;32m      1\u001b[0m \u001b[0;31m# IPython Imports\u001b[0m\u001b[0;34m\u001b[0m\u001b[0;34m\u001b[0m\u001b[0;34m\u001b[0m\u001b[0m\n\u001b[1;32m      2\u001b[0m \u001b[0;31m# Used to make notebook wider, comment out for normal notebook\u001b[0m\u001b[0;34m\u001b[0m\u001b[0;34m\u001b[0m\u001b[0;34m\u001b[0m\u001b[0m\n\u001b[0;32m----> 3\u001b[0;31m \u001b[0;32mfrom\u001b[0m \u001b[0mIPython\u001b[0m\u001b[0;34m.\u001b[0m\u001b[0mcore\u001b[0m\u001b[0;34m.\u001b[0m\u001b[0mdisplay\u001b[0m \u001b[0;32mimport\u001b[0m \u001b[0mdisplay\u001b[0m\u001b[0;34m,\u001b[0m \u001b[0mHTMLCylinders\u001b[0m\u001b[0;34m\u001b[0m\u001b[0;34m\u001b[0m\u001b[0m\n\u001b[0m\u001b[1;32m      4\u001b[0m \u001b[0mdisplay\u001b[0m\u001b[0;34m(\u001b[0m\u001b[0mHTML\u001b[0m\u001b[0;34m(\u001b[0m\u001b[0;34m\"<style>.container { width:90% !important; }</style>\"\u001b[0m\u001b[0;34m)\u001b[0m\u001b[0;34m)\u001b[0m\u001b[0;34m\u001b[0m\u001b[0;34m\u001b[0m\u001b[0m\n\u001b[1;32m      5\u001b[0m \u001b[0;32mfrom\u001b[0m \u001b[0mIPython\u001b[0m\u001b[0;34m.\u001b[0m\u001b[0mdisplay\u001b[0m \u001b[0;32mimport\u001b[0m \u001b[0mclear_output\u001b[0m\u001b[0;34m\u001b[0m\u001b[0;34m\u001b[0m\u001b[0m\n",
      "\u001b[0;31mImportError\u001b[0m: cannot import name 'HTMLCylinders' from 'IPython.core.display' (/usr/lib/python3.8/site-packages/IPython/core/display.py)"
     ]
    }
   ],
   "source": [
    "# IPython Imports\n",
    "# Used to make notebook wider, comment out for normal notebook\n",
    "from IPython.core.display import display, HTMLCylinders\n",
    "display(HTML(\"<style>.container { width:90% !important; }</style>\"))\n",
    "from IPython.display import clear_output"
   ]
  },
  {
   "cell_type": "code",
   "execution_count": null,
   "metadata": {
    "execution": {
     "iopub.status.idle": "2020-04-05T03:05:11.446686Z",
     "shell.execute_reply": "2020-04-05T03:05:11.445833Z",
     "shell.execute_reply.started": "2020-04-05T03:05:11.384909Z"
    }
   },
   "outputs": [],
   "source": [
    "# Import Libraries\n",
    "import boto3\n",
    "import csv\n",
    "import numpy as np\n",
    "import pandas as pd\n",
    "from pandas_profiling import ProfileReport\n",
    "import re\n",
    "from typing import List, Dict, Callable"
   ]
  },
  {
   "cell_type": "code",
   "execution_count": null,
   "metadata": {},
   "outputs": [],
   "source": [
    "# GLOBAL HELPER FUNCTIONS\n",
    "def print_ref(d_obj:Dict[str, any], row_len:int=4) -> None:\n",
    "    ref = \\\n",
    "f\"\"\" ---------------------------\n",
    "| OBJECT KEYS FOR REFERENCE |\n",
    " ---------------------------\n",
    "\"\"\"\n",
    "    row = 0\n",
    "    for key in d_obj.keys():\n",
    "        if row == row_len: \n",
    "            row = 0\n",
    "            ref += \"\\n\"\n",
    "        ref += f\" {key} |\"\n",
    "        row += 1\n",
    "    print(ref)\n",
    "    \n",
    "def parse_col(col_list:List[str], data_frame:pd.DataFrame=None) -> List[str]:\n",
    "    res, len_ = [], len(col_list) + 1\n",
    "    df_exists = data_frame is not None\n",
    "    for num, col in enumerate(col_list):\n",
    "        example = data_frame[col].iloc[0] if df_exists else \"None\"\n",
    "        ans = input(f\"\"\"\n",
    "Item #: {num + 1}/{len_}\n",
    "Column: {col}\n",
    "Example: {example}\n",
    "[y/n] Default[n] -> \"\"\").lower()\n",
    "        clear_output()\n",
    "        if ans == \"y\":\n",
    "            res.append(col)\n",
    "    return res\n",
    "\n",
    "def arrange_col(col_list:List[str], data_frame:pd.DataFrame=None) -> List[str]:\n",
    "    cur, cols, i = [], list(col_list), 0\n",
    "    df_exists = data_frame is not None\n",
    "    \n",
    "    while cols:\n",
    "        if i == len(cols) - 1:\n",
    "            i = 0\n",
    "            \n",
    "        x = cols[i]\n",
    "        example = data_frame[x].iloc[0] if df_exists else \"None\"\n",
    "        \n",
    "        ans = input(f\"\"\"\n",
    "Original:{cols}\n",
    "\n",
    "\n",
    "Current: {cur}\n",
    "\n",
    "------------------\n",
    "Column: {x}\n",
    "\n",
    "Example: {example}\n",
    "\"\"\").lower()\n",
    "        \n",
    "        if ans == \"y\":\n",
    "            cur.append(cols.pop(i))\n",
    "        else:\n",
    "            i += 1\n",
    "        clear_output()\n",
    "        \n",
    "    \n",
    "    return cur\n"
   ]
  },
  {
   "cell_type": "code",
   "execution_count": null,
   "metadata": {},
   "outputs": [],
   "source": [
    "# GLOBAL VARS\n",
    "BKT_NAME = 'ds-data-2020'\n",
    "\n",
    "# DATASET NAMES\n",
    "the_cc = \"thecarconnectiondataset.csv\" # Main Dataset\n",
    "motortrend = \"motortrend1974.csv\" # Currently Not Using\n",
    "car_feat_msrp = \"carfeaturesmsrp.csv\" # Currently Not Using\n",
    "\n",
    "# SET DATA PATH/KEYS\n",
    "KEY = the_cc"
   ]
  },
  {
   "cell_type": "code",
   "execution_count": null,
   "metadata": {},
   "outputs": [],
   "source": [
    "# Create boto3 s3 Client Object\n",
    "s3 = boto3.client('s3')\n",
    "# Create s3 Bucket Object -> Dict\n",
    "obj = s3.get_object(Bucket=BKT_NAME, Key=KEY)\n",
    "\n",
    "# obj_keys = obj.keys()\n",
    "print_ref(obj)\n"
   ]
  },
  {
   "cell_type": "code",
   "execution_count": null,
   "metadata": {
    "execution": {
     "iopub.execute_input": "2020-04-05T03:05:11.461313Z",
     "iopub.status.busy": "2020-04-05T03:05:11.460755Z"
    }
   },
   "outputs": [],
   "source": [
    "# Convert Bucket File to transposed pd.DataFrame\n",
    "auto_df = pd.read_csv(obj['Body'], index_col=0, header=None, low_memory=False).T"
   ]
  },
  {
   "cell_type": "code",
   "execution_count": 2,
   "metadata": {},
   "outputs": [
    {
     "ename": "NameError",
     "evalue": "name 'auto_df' is not defined",
     "output_type": "error",
     "traceback": [
      "\u001b[0;31m---------------------------------------------------------------------------\u001b[0m",
      "\u001b[0;31mNameError\u001b[0m                                 Traceback (most recent call last)",
      "\u001b[0;32m<ipython-input-2-8a6ea6060954>\u001b[0m in \u001b[0;36m<module>\u001b[0;34m\u001b[0m\n\u001b[1;32m      1\u001b[0m \u001b[0;31m# Rename known NaN columns\u001b[0m\u001b[0;34m\u001b[0m\u001b[0;34m\u001b[0m\u001b[0;34m\u001b[0m\u001b[0m\n\u001b[0;32m----> 2\u001b[0;31m \u001b[0mauto_df\u001b[0m\u001b[0;34m.\u001b[0m\u001b[0mrename\u001b[0m\u001b[0;34m(\u001b[0m\u001b[0mcolumns\u001b[0m\u001b[0;34m=\u001b[0m\u001b[0;34m{\u001b[0m \u001b[0mauto_df\u001b[0m\u001b[0;34m.\u001b[0m\u001b[0mcolumns\u001b[0m\u001b[0;34m[\u001b[0m\u001b[0;36m0\u001b[0m\u001b[0;34m]\u001b[0m\u001b[0;34m:\u001b[0m \u001b[0;34m\"Model\"\u001b[0m \u001b[0;34m}\u001b[0m\u001b[0;34m,\u001b[0m \u001b[0minplace\u001b[0m \u001b[0;34m=\u001b[0m \u001b[0;32mTrue\u001b[0m\u001b[0;34m)\u001b[0m\u001b[0;34m\u001b[0m\u001b[0;34m\u001b[0m\u001b[0m\n\u001b[0m",
      "\u001b[0;31mNameError\u001b[0m: name 'auto_df' is not defined"
     ]
    }
   ],
   "source": [
    "# Rename known NaN columns\n",
    "auto_df.rename(columns={ auto_df.columns[0]: \"Model\" }, inplace = True)"
   ]
  },
  {
   "cell_type": "code",
   "execution_count": null,
   "metadata": {},
   "outputs": [],
   "source": [
    "# Get only wanted columns\n",
    "# col = parse_col(auto_df.columns, auto_df)\n",
    "\n",
    "# col = [\"Model\", 'MSRP', 'Gas Mileage', 'Engine', 'EPA Class', 'Style Name', 'Drivetrain', 'Passenger Capacity', 'Passenger Doors', 'Body Style', 'Transmission', 'Base Curb Weight (lbs)', 'Wheelbase (in)', 'Min Ground Clearance (in)', 'Track Width, Front (in)', 'Track Width, Rear (in)', 'Height, Overall (in)', 'Fuel Economy Est-Combined (MPG)', 'SAE Net Torque @ RPM', 'Fuel System', 'Engine Type', 'SAE Net Horsepower @ RPM', 'Displacement', 'First Gear Ratio (:1)', 'Sixth Gear Ratio (:1)', 'Fourth Gear Ratio (:1)', 'Seventh Gear Ratio (:1)', 'Second Gear Ratio (:1)', 'Reverse Ratio (:1)', 'Fifth Gear Ratio (:1)', 'Eighth Gear Ratio (:1)', 'Third Gear Ratio (:1)', 'Final Drive Axle Ratio (:1)', 'Steering Type', 'Front Tire Size', 'Rear Tire Size']"
   ]
  },
  {
   "cell_type": "code",
   "execution_count": null,
   "metadata": {},
   "outputs": [],
   "source": [
    "# Save wanted col to txt file\n",
    "# with open(\"data/wanted_col.txt\", \"w\") as text_file:\n",
    "#     for item in col:\n",
    "#         text_file.write(item + \"\\n\")"
   ]
  },
  {
   "cell_type": "code",
   "execution_count": null,
   "metadata": {},
   "outputs": [],
   "source": [
    "# Get list of column from wanted_col.txt\n",
    "wanted_col = open(\"data/wanted_col.txt\", \"r\").read().splitlines()\n",
    "# Extract columns to new df\n",
    "auto_df_clean = auto_df[wanted_col].copy()"
   ]
  },
  {
   "cell_type": "code",
   "execution_count": null,
   "metadata": {},
   "outputs": [],
   "source": [
    "# Clean Model Column to only contain year and name\n",
    "auto_df_clean[\"Model\"] =  [i.partition('Specs')[0] for i in auto_df_clean.Model]"
   ]
  },
  {
   "cell_type": "code",
   "execution_count": null,
   "metadata": {},
   "outputs": [],
   "source": [
    "# Create Year Column from Model Column\n",
    "auto_df_clean.insert(0, \"Year\", [re.search(\"([^\\s]+)\",x).group() for x in auto_df_clean[\"Model\"]])"
   ]
  },
  {
   "cell_type": "code",
   "execution_count": null,
   "metadata": {},
   "outputs": [],
   "source": [
    "# Cast Year Column to Int\n",
    "auto_df_clean[\"Year\"] = auto_df_clean[\"Year\"].astype(int) "
   ]
  },
  {
   "cell_type": "code",
   "execution_count": null,
   "metadata": {},
   "outputs": [],
   "source": [
    "# Clean Model Column to only contain name\n",
    "auto_df_clean[\"Model\"] =  [(re.search(\"\\s(.*)\", i).group()) for i in auto_df_clean[\"Model\"]]"
   ]
  },
  {
   "cell_type": "code",
   "execution_count": null,
   "metadata": {},
   "outputs": [],
   "source": [
    "# Create Brand Column from Model Column\n",
    "auto_df_clean.insert(1, \"Brand\", [re.search(\"([^\\s]+)\", x).group() for x in auto_df_clean[\"Model\"]])"
   ]
  },
  {
   "cell_type": "code",
   "execution_count": null,
   "metadata": {},
   "outputs": [],
   "source": [
    "# Clean Model Column to only contain model\n",
    "auto_df_clean[\"Model\"] =  [(re.search(\"\\s(.*)\", i).group(1)) for i in auto_df_clean.Model]"
   ]
  },
  {
   "cell_type": "code",
   "execution_count": null,
   "metadata": {},
   "outputs": [],
   "source": [
    "# Get rid of all nan values in Gas Mileage\n",
    "nans = pd.notnull(auto_df_clean['Gas Mileage'])\n",
    "auto_df_clean = auto_df_clean[nans]"
   ]
  },
  {
   "cell_type": "code",
   "execution_count": null,
   "metadata": {},
   "outputs": [],
   "source": [
    "# Split Gas Mileage into City and Hwy\n",
    "auto_df_clean.insert(4, \"Gas Mileage (City)\", [(x.partition(\"/\")[0].partition(\" \")[0]) for x in auto_df_clean[\"Gas Mileage\"]])\n",
    "auto_df_clean.insert(5, \"Gas Mileage (Hwy)\", [(x.partition(\"/\")[2].partition(\" \")[0]) for x in auto_df_clean[\"Gas Mileage\"]])"
   ]
  },
  {
   "cell_type": "code",
   "execution_count": null,
   "metadata": {},
   "outputs": [],
   "source": [
    "# Gas Mileage to INT\n",
    "auto_df_clean['Gas Mileage (City)'] = pd.to_numeric(auto_df_clean['Gas Mileage (City)'])\n",
    "auto_df_clean['Gas Mileage (Hwy)'] = pd.to_numeric(auto_df_clean['Gas Mileage (Hwy)'])"
   ]
  },
  {
   "cell_type": "code",
   "execution_count": null,
   "metadata": {},
   "outputs": [],
   "source": [
    "# Drop Gas Mileage Column after split\n",
    "auto_df_clean.drop(columns=[\"Gas Mileage\"], inplace=True)"
   ]
  },
  {
   "cell_type": "code",
   "execution_count": null,
   "metadata": {},
   "outputs": [],
   "source": [
    "# Clean Gear Ratio Columns\n",
    "gears = [\"First Gear Ratio (:1)\", \"Second Gear Ratio (:1)\", \"Third Gear Ratio (:1)\", \"Fourth Gear Ratio (:1)\", \"Fifth Gear Ratio (:1)\", \"Sixth Gear Ratio (:1)\", \"Seventh Gear Ratio (:1)\", \"Eighth Gear Ratio (:1)\", \"Reverse Ratio (:1)\", \"Final Drive Axle Ratio (:1)\"]\n",
    "\n",
    "# Reorder Gears Numerically\n",
    "for idx, column in enumerate(gears, 26):\n",
    "    col = auto_df_clean[column]\n",
    "    auto_df_clean.drop(labels=[column], axis=1,inplace = True)\n",
    "    auto_df_clean.insert(idx, column, col)\n",
    "    \n",
    "# Cast NaN to values in col with \"- TBD -\"\n",
    "for gear in gears:\n",
    "    auto_df_clean.loc[auto_df_clean[gear].str.contains(\"TBD\", na=False), gear] = np.nan"
   ]
  },
  {
   "cell_type": "code",
   "execution_count": null,
   "metadata": {},
   "outputs": [],
   "source": [
    "# Cast float to values in col with string arithmetic\n",
    "\"Notes: Some gear columns need to be sep with (,), (/), or (\" \") delimiters\"\n",
    "for gear in gears:\n",
    "    auto_df_clean[gear] = pd.to_numeric([\n",
    "        (x.partition(\",\")[0]) if ((type(x) == str) and (\",\" in x)) \n",
    "        else (x.partition(\"/\")[0]) if ((type(x) == str) and (\"/\" in x))\n",
    "        else (x.partition(\"-\")[0]) if ((type(x) == str) and (\"-\" in x))\n",
    "        else (x.partition(\" \")[0]) if ((type(x) == str) and (\" \" in x))\n",
    "        else x for x in auto_df_clean[gear]\n",
    "    ], downcast=\"float\", errors=\"coerce\")"
   ]
  },
  {
   "cell_type": "code",
   "execution_count": null,
   "metadata": {},
   "outputs": [],
   "source": [
    "# Cast MSRP to Numeric Float\n",
    "auto_df_clean[\"MSRP\"] = pd.to_numeric((auto_df_clean[\"MSRP\"].replace('[\\$,]', '', regex=True)), downcast=\"integer\", errors=\"coerce\")\n",
    "# Rename MSRP to indicate $\n",
    "auto_df_clean.rename(columns={ \"MSRP\": \"MSRP($)\" }, inplace = True)"
   ]
  },
  {
   "cell_type": "code",
   "execution_count": null,
   "metadata": {},
   "outputs": [],
   "source": [
    "# Get rid of all nan values in Horsepower/Torque\n",
    "nans = pd.notnull(auto_df_clean['SAE Net Torque @ RPM'])\n",
    "auto_df_clean = auto_df_clean[nans]"
   ]
  },
  {
   "cell_type": "code",
   "execution_count": null,
   "metadata": {},
   "outputs": [],
   "source": [
    "# Split SAE Horsepower into Horsepower and @ RPM\n",
    "auto_df_clean.insert(4, \"Horsepower\", [(x.partition(\"@\")[0]) for x in auto_df_clean[\"SAE Net Horsepower @ RPM\"]])\n",
    "auto_df_clean.insert(5, \"@ RPM (HP)\", [(x.partition(\"@\")[2]) for x in auto_df_clean[\"SAE Net Horsepower @ RPM\"]])"
   ]
  },
  {
   "cell_type": "code",
   "execution_count": null,
   "metadata": {},
   "outputs": [],
   "source": [
    "# Split SAE Torque into Torque and @ RPM\n",
    "auto_df_clean.insert(6, \"Torque\", [(x.partition(\"@\")[0]) for x in auto_df_clean[\"SAE Net Torque @ RPM\"]])\n",
    "auto_df_clean.insert(7, \"@ RPM (TQ)\", [(x.partition(\"@\")[2]) for x in auto_df_clean[\"SAE Net Torque @ RPM\"]])"
   ]
  },
  {
   "cell_type": "code",
   "execution_count": null,
   "metadata": {},
   "outputs": [],
   "source": [
    "# Clean and Cast Power Values (Horsepower / Torque)\n",
    "pow_rpm_ratings = [\"Horsepower\", \"Torque\", \"@ RPM (HP)\", \"@ RPM (TQ)\"]\n",
    "\"Notes: Some Power columns need to be sep with (@), or (-) delimiters\"\n",
    "# Cast NaN to values in col with empty ratings or \"- TBD -\"\n",
    "for col in pow_rpm_ratings:\n",
    "    auto_df_clean.loc[auto_df_clean[col].str.contains(\"TBD\", na=False), col] = np.nan\n",
    "    if col in pow_rpm_ratings[:2]:\n",
    "        auto_df_clean[col] = pd.to_numeric(auto_df_clean[col], downcast=\"float\", errors=\"coerce\")"
   ]
  },
  {
   "cell_type": "code",
   "execution_count": null,
   "metadata": {},
   "outputs": [],
   "source": [
    "# Drop SAE Horsepower and SAE Torque Columns after splits\n",
    "auto_df_clean.drop(columns=[\"SAE Net Horsepower @ RPM\"], inplace=True)\n",
    "auto_df_clean.drop(columns=[\"SAE Net Torque @ RPM\"], inplace=True)"
   ]
  },
  {
   "cell_type": "code",
   "execution_count": null,
   "metadata": {},
   "outputs": [],
   "source": [
    "# Clean Base Curb Weight and Cast to INT\n",
    "auto_df_clean[\"Base Curb Weight (lbs)\"] = pd.to_numeric(auto_df_clean[\"Base Curb Weight (lbs)\"], downcast=\"integer\", errors=\"coerce\")"
   ]
  },
  {
   "cell_type": "code",
   "execution_count": null,
   "metadata": {},
   "outputs": [],
   "source": [
    "# Clean Displacement and Cast to INT\n",
    "auto_df_clean[\"Displacement\"] = pd.to_numeric(\n",
    "    [(x.partition(\"L\")[0]) if type(x) == str else x for x in auto_df_clean[\"Displacement\"]], \n",
    "    downcast=\"float\", \n",
    "    errors=\"coerce\"\n",
    ")\n",
    "auto_df_clean.rename(columns={ \"Displacement\": \"Displacement(L)\" }, inplace = True)"
   ]
  },
  {
   "cell_type": "code",
   "execution_count": null,
   "metadata": {},
   "outputs": [],
   "source": [
    "# Clean Passenger Doors and Cast to INT\n",
    "auto_df_clean[\"Passenger Doors\"] = pd.to_numeric(auto_df_clean[\"Passenger Doors\"], downcast=\"integer\", errors=\"raise\")"
   ]
  },
  {
   "cell_type": "code",
   "execution_count": null,
   "metadata": {},
   "outputs": [],
   "source": [
    "# Clean Combined Fuel Economy Doors and Cast to INT\n",
    "auto_df_clean[\"Fuel Economy Est-Combined (MPG)\"] = pd.to_numeric(auto_df_clean[\"Fuel Economy Est-Combined (MPG)\"], downcast=\"integer\", errors=\"coerce\")\n",
    "auto_df_clean.rename(columns={ \"Fuel Economy Est-Combined (MPG)\": \"Gas Mileage (Combined)\" }, inplace = True)"
   ]
  },
  {
   "cell_type": "code",
   "execution_count": null,
   "metadata": {},
   "outputs": [],
   "source": [
    "# # Save Rearranged col to txt file\n",
    "# with open(\"data/rearranged_col.txt\", \"w\") as text_file:\n",
    "#     for item in res:\n",
    "#         text_file.write(item + \"\\n\")\n",
    "\n",
    "# Rearrange All Columns before Export (read from rearranged_col.txt)\n",
    "order = []\n",
    "with open(\"data/rearranged_col.txt\", \"r\") as text_file:\n",
    "    order = [x.strip() for x in text_file.readlines()]\n",
    "auto_df_clean = auto_df_clean[order]"
   ]
  },
  {
   "cell_type": "code",
   "execution_count": null,
   "metadata": {},
   "outputs": [],
   "source": [
    "# Clean Engine Type\n",
    "\n",
    "# Drop Toyota Mirai (Hydrogen Powered Car)\n",
    "nans = pd.notnull(auto_df_clean['Engine Type'])\n",
    "auto_df_clean = auto_df_clean[nans]\n",
    "\n",
    "# Change Buick Regal Engine Type to \"Turbo Premium Unleaded I-4\"\n",
    "auto_df_clean[auto_df_clean[\"Engine Type\"] == \"Turbocharged\"] = \"Turbo Premium Unleaded I-4\"\n",
    "# Change Buick Regal Engine Type to \"Turbo Premium Unleaded I-4\"\n",
    "auto_df_clean[auto_df_clean[\"Engine Type\"] == \"Turbocharged Gas\"] = \"Turbo Premium Unleaded I-4\"\n",
    "# Change Chevrolet Cruze Engine Type to \"Turbo Premium Unleaded I-4\"\n",
    "auto_df_clean[auto_df_clean[\"Engine Type\"] == \"Turbo Diesel\"] = \"Turbo Diesel 4-cylinder\"\n",
    "\n",
    "\n",
    "# Parse Engine Type for Cylinders and Insert Feature\n",
    "auto_df_clean.insert(8, \"Cylinders\", auto_df_clean[\"Engine Type\"].str.extract('(\\d+)'))"
   ]
  },
  {
   "cell_type": "code",
   "execution_count": null,
   "metadata": {},
   "outputs": [],
   "source": [
    "# Cast INT to Cylinders\n",
    "auto_df_clean[\"Cylinders\"] = pd.to_numeric(auto_df_clean[\"Cylinders\"], downcast=\"integer\", errors=\"raise\")"
   ]
  },
  {
   "cell_type": "code",
   "execution_count": null,
   "metadata": {},
   "outputs": [],
   "source": [
    "# Clean Every String Cell by Strip\n",
    "auto_df_clean = auto_df_clean.applymap(lambda x: x.strip() if isinstance(x, str) else x)"
   ]
  },
  {
   "cell_type": "code",
   "execution_count": null,
   "metadata": {},
   "outputs": [],
   "source": [
    "# auto_df_clean.head()"
   ]
  },
  {
   "cell_type": "code",
   "execution_count": null,
   "metadata": {},
   "outputs": [],
   "source": [
    "# auto_df_clean.describe()"
   ]
  },
  {
   "cell_type": "code",
   "execution_count": null,
   "metadata": {},
   "outputs": [],
   "source": [
    "# auto_df_clean.info()"
   ]
  },
  {
   "cell_type": "code",
   "execution_count": null,
   "metadata": {},
   "outputs": [],
   "source": [
    "# Sandbox\n",
    "\n",
    "# sum(pd.isnull(auto_df_clean[\"Cylinders\"]))\n",
    "# auto_df_clean[pd.isnull(auto_df_clean[\"Cylinders\"])]\n",
    "\n",
    "# auto_df_clean[auto_df_clean[\"Engine Type\"] == \"Turbo Diesel\"]\n",
    "# auto_df_clean[auto_df_clean[\"Engine Type\"] == \"Turbocharged Gas\"]"
   ]
  }
 ],
 "metadata": {
  "kernelspec": {
   "display_name": "Python 3",
   "language": "python",
   "name": "python3"
  },
  "language_info": {
   "codemirror_mode": {
    "name": "ipython",
    "version": 3
   },
   "file_extension": ".py",
   "mimetype": "text/x-python",
   "name": "python",
   "nbconvert_exporter": "python",
   "pygments_lexer": "ipython3",
   "version": "3.8.2"
  }
 },
 "nbformat": 4,
 "nbformat_minor": 4
}
